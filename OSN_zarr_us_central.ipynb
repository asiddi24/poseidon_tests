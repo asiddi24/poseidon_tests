{
 "cells": [
  {
   "cell_type": "markdown",
   "id": "empirical-rates",
   "metadata": {},
   "source": [
    "## OSN zarr format "
   ]
  },
  {
   "cell_type": "code",
   "execution_count": 1,
   "id": "copyrighted-laundry",
   "metadata": {},
   "outputs": [],
   "source": [
    "import dask.array as dsa\n",
    "import fsspec\n",
    "import numpy as np\n",
    "import pandas as pd\n",
    "from contextlib import contextmanager\n",
    "import pandas as pd\n",
    "import intake\n",
    "import time\n",
    "#import seaborn as sns\n",
    "import dask\n",
    "from matplotlib import pyplot as plt"
   ]
  },
  {
   "cell_type": "code",
   "execution_count": 2,
   "id": "serial-locator",
   "metadata": {},
   "outputs": [],
   "source": [
    "import s3fs\n",
    "import xarray as xr\n",
    "import dask\n",
    "import fsspec\n",
    "import zarr\n",
    "import dask.array as dsa\n",
    "import pandas as pd\n",
    "\n",
    "endpoint_url = \"https://mghp.osn.xsede.org\"\n",
    "bucket = 'cnh-bucket-1'\n"
   ]
  },
  {
   "cell_type": "code",
   "execution_count": 3,
   "id": "enabling-swiss",
   "metadata": {},
   "outputs": [
    {
     "data": {
      "text/plain": [
       "[{'Key': 'cnh-bucket-1/DYAMOND',\n",
       "  'Size': 0,\n",
       "  'StorageClass': 'DIRECTORY',\n",
       "  'type': 'directory',\n",
       "  'size': 0,\n",
       "  'name': 'cnh-bucket-1/DYAMOND'},\n",
       " {'Key': 'cnh-bucket-1/llc4320_grid',\n",
       "  'Size': 0,\n",
       "  'StorageClass': 'DIRECTORY',\n",
       "  'type': 'directory',\n",
       "  'size': 0,\n",
       "  'name': 'cnh-bucket-1/llc4320_grid'},\n",
       " {'Key': 'cnh-bucket-1/llc4320_tests',\n",
       "  'Size': 0,\n",
       "  'StorageClass': 'DIRECTORY',\n",
       "  'type': 'directory',\n",
       "  'size': 0,\n",
       "  'name': 'cnh-bucket-1/llc4320_tests'},\n",
       " {'Key': 'cnh-bucket-1/llc4320_zarr',\n",
       "  'Size': 0,\n",
       "  'StorageClass': 'DIRECTORY',\n",
       "  'type': 'directory',\n",
       "  'size': 0,\n",
       "  'name': 'cnh-bucket-1/llc4320_zarr'},\n",
       " {'Key': 'cnh-bucket-1/llc_masks',\n",
       "  'Size': 0,\n",
       "  'StorageClass': 'DIRECTORY',\n",
       "  'type': 'directory',\n",
       "  'size': 0,\n",
       "  'name': 'cnh-bucket-1/llc_masks'}]"
      ]
     },
     "execution_count": 3,
     "metadata": {},
     "output_type": "execute_result"
    }
   ],
   "source": [
    "fs = s3fs.S3FileSystem(anon=True,\n",
    "                       client_kwargs={'endpoint_url': endpoint_url})\n",
    "listing = fs.listdir(bucket)\n",
    "listing"
   ]
  },
  {
   "cell_type": "code",
   "execution_count": 27,
   "id": "fatty-crowd",
   "metadata": {},
   "outputs": [
    {
     "name": "stdout",
     "output_type": "stream",
     "text": [
      "Name             : /\n",
      "Type             : zarr.hierarchy.Group\n",
      "Read-only        : False\n",
      "Store type       : zarr.storage.ConsolidatedMetadataStore\n",
      "Chunk store type : fsspec.mapping.FSMap\n",
      "No. members      : 5\n",
      "No. arrays       : 5\n",
      "No. groups       : 0\n",
      "Arrays           : Eta, face, i, j, time\n",
      "\n"
     ]
    }
   ],
   "source": [
    "mapper_osn = fs.get_mapper('cnh-bucket-1/llc4320_zarr')\n",
    "zgroup_osn = zarr.open_consolidated(mapper_osn)\n",
    "print(zgroup_osn.info)"
   ]
  },
  {
   "cell_type": "code",
   "execution_count": 28,
   "id": "charming-description",
   "metadata": {},
   "outputs": [],
   "source": [
    "array_osn = zgroup_osn['Eta']"
   ]
  },
  {
   "cell_type": "code",
   "execution_count": 31,
   "id": "comfortable-appearance",
   "metadata": {},
   "outputs": [
    {
     "name": "stdout",
     "output_type": "stream",
     "text": [
      "CPU times: user 4.43 s, sys: 1.8 s, total: 6.23 s\n",
      "Wall time: 20.1 s\n"
     ]
    }
   ],
   "source": [
    "array_dask_osn = dask.array.from_zarr(array_osn)"
   ]
  },
  {
   "cell_type": "code",
   "execution_count": 32,
   "id": "charged-telephone",
   "metadata": {},
   "outputs": [
    {
     "data": {
      "text/html": [
       "<table>\n",
       "<tr>\n",
       "<td>\n",
       "<table>\n",
       "  <thead>\n",
       "    <tr><td> </td><th> Array </th><th> Chunk </th></tr>\n",
       "  </thead>\n",
       "  <tbody>\n",
       "    <tr><th> Bytes </th><td> 8.76 TB </td> <td> 74.65 MB </td></tr>\n",
       "    <tr><th> Shape </th><td> (9030, 13, 4320, 4320) </td> <td> (1, 1, 4320, 4320) </td></tr>\n",
       "    <tr><th> Count </th><td> 117391 Tasks </td><td> 117390 Chunks </td></tr>\n",
       "    <tr><th> Type </th><td> >f4 </td><td> numpy.ndarray </td></tr>\n",
       "  </tbody>\n",
       "</table>\n",
       "</td>\n",
       "<td>\n",
       "<svg width=\"502\" height=\"122\" style=\"stroke:rgb(0,0,0);stroke-width:1\" >\n",
       "\n",
       "  <!-- Horizontal lines -->\n",
       "  <line x1=\"0\" y1=\"0\" x2=\"120\" y2=\"0\" style=\"stroke-width:2\" />\n",
       "  <line x1=\"0\" y1=\"25\" x2=\"120\" y2=\"25\" style=\"stroke-width:2\" />\n",
       "\n",
       "  <!-- Vertical lines -->\n",
       "  <line x1=\"0\" y1=\"0\" x2=\"0\" y2=\"25\" style=\"stroke-width:2\" />\n",
       "  <line x1=\"3\" y1=\"0\" x2=\"3\" y2=\"25\" />\n",
       "  <line x1=\"7\" y1=\"0\" x2=\"7\" y2=\"25\" />\n",
       "  <line x1=\"11\" y1=\"0\" x2=\"11\" y2=\"25\" />\n",
       "  <line x1=\"14\" y1=\"0\" x2=\"14\" y2=\"25\" />\n",
       "  <line x1=\"18\" y1=\"0\" x2=\"18\" y2=\"25\" />\n",
       "  <line x1=\"22\" y1=\"0\" x2=\"22\" y2=\"25\" />\n",
       "  <line x1=\"26\" y1=\"0\" x2=\"26\" y2=\"25\" />\n",
       "  <line x1=\"29\" y1=\"0\" x2=\"29\" y2=\"25\" />\n",
       "  <line x1=\"33\" y1=\"0\" x2=\"33\" y2=\"25\" />\n",
       "  <line x1=\"37\" y1=\"0\" x2=\"37\" y2=\"25\" />\n",
       "  <line x1=\"41\" y1=\"0\" x2=\"41\" y2=\"25\" />\n",
       "  <line x1=\"44\" y1=\"0\" x2=\"44\" y2=\"25\" />\n",
       "  <line x1=\"48\" y1=\"0\" x2=\"48\" y2=\"25\" />\n",
       "  <line x1=\"52\" y1=\"0\" x2=\"52\" y2=\"25\" />\n",
       "  <line x1=\"56\" y1=\"0\" x2=\"56\" y2=\"25\" />\n",
       "  <line x1=\"60\" y1=\"0\" x2=\"60\" y2=\"25\" />\n",
       "  <line x1=\"63\" y1=\"0\" x2=\"63\" y2=\"25\" />\n",
       "  <line x1=\"67\" y1=\"0\" x2=\"67\" y2=\"25\" />\n",
       "  <line x1=\"71\" y1=\"0\" x2=\"71\" y2=\"25\" />\n",
       "  <line x1=\"74\" y1=\"0\" x2=\"74\" y2=\"25\" />\n",
       "  <line x1=\"78\" y1=\"0\" x2=\"78\" y2=\"25\" />\n",
       "  <line x1=\"82\" y1=\"0\" x2=\"82\" y2=\"25\" />\n",
       "  <line x1=\"86\" y1=\"0\" x2=\"86\" y2=\"25\" />\n",
       "  <line x1=\"89\" y1=\"0\" x2=\"89\" y2=\"25\" />\n",
       "  <line x1=\"93\" y1=\"0\" x2=\"93\" y2=\"25\" />\n",
       "  <line x1=\"97\" y1=\"0\" x2=\"97\" y2=\"25\" />\n",
       "  <line x1=\"101\" y1=\"0\" x2=\"101\" y2=\"25\" />\n",
       "  <line x1=\"104\" y1=\"0\" x2=\"104\" y2=\"25\" />\n",
       "  <line x1=\"108\" y1=\"0\" x2=\"108\" y2=\"25\" />\n",
       "  <line x1=\"112\" y1=\"0\" x2=\"112\" y2=\"25\" />\n",
       "  <line x1=\"116\" y1=\"0\" x2=\"116\" y2=\"25\" />\n",
       "  <line x1=\"120\" y1=\"0\" x2=\"120\" y2=\"25\" style=\"stroke-width:2\" />\n",
       "\n",
       "  <!-- Colored Rectangle -->\n",
       "  <polygon points=\"0.0,0.0 120.0,0.0 120.0,25.412616514582485 0.0,25.412616514582485\" style=\"fill:#8B4903A0;stroke-width:0\"/>\n",
       "\n",
       "  <!-- Text -->\n",
       "  <text x=\"60.000000\" y=\"45.412617\" font-size=\"1.0rem\" font-weight=\"100\" text-anchor=\"middle\" >9030</text>\n",
       "  <text x=\"140.000000\" y=\"12.706308\" font-size=\"1.0rem\" font-weight=\"100\" text-anchor=\"middle\" transform=\"rotate(0,140.000000,12.706308)\">1</text>\n",
       "\n",
       "\n",
       "  <!-- Horizontal lines -->\n",
       "  <line x1=\"190\" y1=\"0\" x2=\"204\" y2=\"14\" style=\"stroke-width:2\" />\n",
       "  <line x1=\"190\" y1=\"57\" x2=\"204\" y2=\"72\" style=\"stroke-width:2\" />\n",
       "\n",
       "  <!-- Vertical lines -->\n",
       "  <line x1=\"190\" y1=\"0\" x2=\"190\" y2=\"57\" style=\"stroke-width:2\" />\n",
       "  <line x1=\"191\" y1=\"1\" x2=\"191\" y2=\"58\" />\n",
       "  <line x1=\"192\" y1=\"2\" x2=\"192\" y2=\"59\" />\n",
       "  <line x1=\"193\" y1=\"3\" x2=\"193\" y2=\"60\" />\n",
       "  <line x1=\"194\" y1=\"4\" x2=\"194\" y2=\"62\" />\n",
       "  <line x1=\"195\" y1=\"5\" x2=\"195\" y2=\"63\" />\n",
       "  <line x1=\"196\" y1=\"6\" x2=\"196\" y2=\"64\" />\n",
       "  <line x1=\"198\" y1=\"8\" x2=\"198\" y2=\"65\" />\n",
       "  <line x1=\"199\" y1=\"9\" x2=\"199\" y2=\"66\" />\n",
       "  <line x1=\"200\" y1=\"10\" x2=\"200\" y2=\"67\" />\n",
       "  <line x1=\"201\" y1=\"11\" x2=\"201\" y2=\"68\" />\n",
       "  <line x1=\"202\" y1=\"12\" x2=\"202\" y2=\"70\" />\n",
       "  <line x1=\"203\" y1=\"13\" x2=\"203\" y2=\"71\" />\n",
       "  <line x1=\"204\" y1=\"14\" x2=\"204\" y2=\"72\" style=\"stroke-width:2\" />\n",
       "\n",
       "  <!-- Colored Rectangle -->\n",
       "  <polygon points=\"190.0,0.0 204.9485979497544,14.948597949754403 204.9485979497544,72.35723582350856 190.0,57.40863787375415\" style=\"fill:#ECB172A0;stroke-width:0\"/>\n",
       "\n",
       "  <!-- Horizontal lines -->\n",
       "  <line x1=\"190\" y1=\"0\" x2=\"247\" y2=\"0\" style=\"stroke-width:2\" />\n",
       "  <line x1=\"191\" y1=\"1\" x2=\"248\" y2=\"1\" />\n",
       "  <line x1=\"192\" y1=\"2\" x2=\"249\" y2=\"2\" />\n",
       "  <line x1=\"193\" y1=\"3\" x2=\"250\" y2=\"3\" />\n",
       "  <line x1=\"194\" y1=\"4\" x2=\"252\" y2=\"4\" />\n",
       "  <line x1=\"195\" y1=\"5\" x2=\"253\" y2=\"5\" />\n",
       "  <line x1=\"196\" y1=\"6\" x2=\"254\" y2=\"6\" />\n",
       "  <line x1=\"198\" y1=\"8\" x2=\"255\" y2=\"8\" />\n",
       "  <line x1=\"199\" y1=\"9\" x2=\"256\" y2=\"9\" />\n",
       "  <line x1=\"200\" y1=\"10\" x2=\"257\" y2=\"10\" />\n",
       "  <line x1=\"201\" y1=\"11\" x2=\"258\" y2=\"11\" />\n",
       "  <line x1=\"202\" y1=\"12\" x2=\"260\" y2=\"12\" />\n",
       "  <line x1=\"203\" y1=\"13\" x2=\"261\" y2=\"13\" />\n",
       "  <line x1=\"204\" y1=\"14\" x2=\"262\" y2=\"14\" style=\"stroke-width:2\" />\n",
       "\n",
       "  <!-- Vertical lines -->\n",
       "  <line x1=\"190\" y1=\"0\" x2=\"204\" y2=\"14\" style=\"stroke-width:2\" />\n",
       "  <line x1=\"247\" y1=\"0\" x2=\"262\" y2=\"14\" style=\"stroke-width:2\" />\n",
       "\n",
       "  <!-- Colored Rectangle -->\n",
       "  <polygon points=\"190.0,0.0 247.40863787375415,0.0 262.3572358235086,14.948597949754403 204.9485979497544,14.948597949754403\" style=\"fill:#ECB172A0;stroke-width:0\"/>\n",
       "\n",
       "  <!-- Horizontal lines -->\n",
       "  <line x1=\"204\" y1=\"14\" x2=\"262\" y2=\"14\" style=\"stroke-width:2\" />\n",
       "  <line x1=\"204\" y1=\"72\" x2=\"262\" y2=\"72\" style=\"stroke-width:2\" />\n",
       "\n",
       "  <!-- Vertical lines -->\n",
       "  <line x1=\"204\" y1=\"14\" x2=\"204\" y2=\"72\" style=\"stroke-width:2\" />\n",
       "  <line x1=\"262\" y1=\"14\" x2=\"262\" y2=\"72\" style=\"stroke-width:2\" />\n",
       "\n",
       "  <!-- Colored Rectangle -->\n",
       "  <polygon points=\"204.9485979497544,14.948597949754403 262.3572358235086,14.948597949754403 262.3572358235086,72.35723582350856 204.9485979497544,72.35723582350856\" style=\"fill:#ECB172A0;stroke-width:0\"/>\n",
       "\n",
       "  <!-- Text -->\n",
       "  <text x=\"233.652917\" y=\"92.357236\" font-size=\"1.0rem\" font-weight=\"100\" text-anchor=\"middle\" >4320</text>\n",
       "  <text x=\"282.357236\" y=\"43.652917\" font-size=\"1.0rem\" font-weight=\"100\" text-anchor=\"middle\" transform=\"rotate(-90,282.357236,43.652917)\">4320</text>\n",
       "  <text x=\"187.474299\" y=\"84.882937\" font-size=\"1.0rem\" font-weight=\"100\" text-anchor=\"middle\" transform=\"rotate(45,187.474299,84.882937)\">13</text>\n",
       "</svg>\n",
       "</td>\n",
       "</tr>\n",
       "</table>"
      ],
      "text/plain": [
       "dask.array<from-zarr, shape=(9030, 13, 4320, 4320), dtype=>f4, chunksize=(1, 1, 4320, 4320), chunktype=numpy.ndarray>"
      ]
     },
     "execution_count": 32,
     "metadata": {},
     "output_type": "execute_result"
    }
   ],
   "source": [
    "array_dask_osn"
   ]
  },
  {
   "cell_type": "markdown",
   "id": "clear-affairs",
   "metadata": {},
   "source": [
    "## This is where I manually change the data for small v/s large chunk sizes. "
   ]
  },
  {
   "cell_type": "code",
   "execution_count": 8,
   "id": "bigger-locking",
   "metadata": {},
   "outputs": [
    {
     "data": {
      "text/html": [
       "<table>\n",
       "<tr>\n",
       "<td>\n",
       "<table>\n",
       "  <thead>\n",
       "    <tr><td> </td><th> Array </th><th> Chunk </th></tr>\n",
       "  </thead>\n",
       "  <tbody>\n",
       "    <tr><th> Bytes </th><td> 74.65 GB </td> <td> 74.65 MB </td></tr>\n",
       "    <tr><th> Shape </th><td> (1000, 4320, 4320) </td> <td> (1, 4320, 4320) </td></tr>\n",
       "    <tr><th> Count </th><td> 118391 Tasks </td><td> 1000 Chunks </td></tr>\n",
       "    <tr><th> Type </th><td> >f4 </td><td> numpy.ndarray </td></tr>\n",
       "  </tbody>\n",
       "</table>\n",
       "</td>\n",
       "<td>\n",
       "<svg width=\"205\" height=\"195\" style=\"stroke:rgb(0,0,0);stroke-width:1\" >\n",
       "\n",
       "  <!-- Horizontal lines -->\n",
       "  <line x1=\"10\" y1=\"0\" x2=\"35\" y2=\"25\" style=\"stroke-width:2\" />\n",
       "  <line x1=\"10\" y1=\"120\" x2=\"35\" y2=\"145\" style=\"stroke-width:2\" />\n",
       "\n",
       "  <!-- Vertical lines -->\n",
       "  <line x1=\"10\" y1=\"0\" x2=\"10\" y2=\"120\" style=\"stroke-width:2\" />\n",
       "  <line x1=\"11\" y1=\"1\" x2=\"11\" y2=\"121\" />\n",
       "  <line x1=\"12\" y1=\"2\" x2=\"12\" y2=\"122\" />\n",
       "  <line x1=\"13\" y1=\"3\" x2=\"13\" y2=\"123\" />\n",
       "  <line x1=\"15\" y1=\"5\" x2=\"15\" y2=\"125\" />\n",
       "  <line x1=\"16\" y1=\"6\" x2=\"16\" y2=\"126\" />\n",
       "  <line x1=\"17\" y1=\"7\" x2=\"17\" y2=\"127\" />\n",
       "  <line x1=\"19\" y1=\"9\" x2=\"19\" y2=\"129\" />\n",
       "  <line x1=\"20\" y1=\"10\" x2=\"20\" y2=\"130\" />\n",
       "  <line x1=\"21\" y1=\"11\" x2=\"21\" y2=\"131\" />\n",
       "  <line x1=\"23\" y1=\"13\" x2=\"23\" y2=\"133\" />\n",
       "  <line x1=\"24\" y1=\"14\" x2=\"24\" y2=\"134\" />\n",
       "  <line x1=\"25\" y1=\"15\" x2=\"25\" y2=\"135\" />\n",
       "  <line x1=\"27\" y1=\"17\" x2=\"27\" y2=\"137\" />\n",
       "  <line x1=\"28\" y1=\"18\" x2=\"28\" y2=\"138\" />\n",
       "  <line x1=\"29\" y1=\"19\" x2=\"29\" y2=\"139\" />\n",
       "  <line x1=\"31\" y1=\"21\" x2=\"31\" y2=\"141\" />\n",
       "  <line x1=\"32\" y1=\"22\" x2=\"32\" y2=\"142\" />\n",
       "  <line x1=\"33\" y1=\"23\" x2=\"33\" y2=\"143\" />\n",
       "  <line x1=\"35\" y1=\"25\" x2=\"35\" y2=\"145\" style=\"stroke-width:2\" />\n",
       "\n",
       "  <!-- Colored Rectangle -->\n",
       "  <polygon points=\"10.0,0.0 35.06145521482782,25.061455214827816 35.06145521482782,145.06145521482782 10.0,120.0\" style=\"fill:#8B4903A0;stroke-width:0\"/>\n",
       "\n",
       "  <!-- Horizontal lines -->\n",
       "  <line x1=\"10\" y1=\"0\" x2=\"130\" y2=\"0\" style=\"stroke-width:2\" />\n",
       "  <line x1=\"11\" y1=\"1\" x2=\"131\" y2=\"1\" />\n",
       "  <line x1=\"12\" y1=\"2\" x2=\"132\" y2=\"2\" />\n",
       "  <line x1=\"13\" y1=\"3\" x2=\"133\" y2=\"3\" />\n",
       "  <line x1=\"15\" y1=\"5\" x2=\"135\" y2=\"5\" />\n",
       "  <line x1=\"16\" y1=\"6\" x2=\"136\" y2=\"6\" />\n",
       "  <line x1=\"17\" y1=\"7\" x2=\"137\" y2=\"7\" />\n",
       "  <line x1=\"19\" y1=\"9\" x2=\"139\" y2=\"9\" />\n",
       "  <line x1=\"20\" y1=\"10\" x2=\"140\" y2=\"10\" />\n",
       "  <line x1=\"21\" y1=\"11\" x2=\"141\" y2=\"11\" />\n",
       "  <line x1=\"23\" y1=\"13\" x2=\"143\" y2=\"13\" />\n",
       "  <line x1=\"24\" y1=\"14\" x2=\"144\" y2=\"14\" />\n",
       "  <line x1=\"25\" y1=\"15\" x2=\"145\" y2=\"15\" />\n",
       "  <line x1=\"27\" y1=\"17\" x2=\"147\" y2=\"17\" />\n",
       "  <line x1=\"28\" y1=\"18\" x2=\"148\" y2=\"18\" />\n",
       "  <line x1=\"29\" y1=\"19\" x2=\"149\" y2=\"19\" />\n",
       "  <line x1=\"31\" y1=\"21\" x2=\"151\" y2=\"21\" />\n",
       "  <line x1=\"32\" y1=\"22\" x2=\"152\" y2=\"22\" />\n",
       "  <line x1=\"33\" y1=\"23\" x2=\"153\" y2=\"23\" />\n",
       "  <line x1=\"35\" y1=\"25\" x2=\"155\" y2=\"25\" style=\"stroke-width:2\" />\n",
       "\n",
       "  <!-- Vertical lines -->\n",
       "  <line x1=\"10\" y1=\"0\" x2=\"35\" y2=\"25\" style=\"stroke-width:2\" />\n",
       "  <line x1=\"130\" y1=\"0\" x2=\"155\" y2=\"25\" style=\"stroke-width:2\" />\n",
       "\n",
       "  <!-- Colored Rectangle -->\n",
       "  <polygon points=\"10.0,0.0 130.0,0.0 155.06145521482782,25.061455214827816 35.06145521482782,25.061455214827816\" style=\"fill:#8B4903A0;stroke-width:0\"/>\n",
       "\n",
       "  <!-- Horizontal lines -->\n",
       "  <line x1=\"35\" y1=\"25\" x2=\"155\" y2=\"25\" style=\"stroke-width:2\" />\n",
       "  <line x1=\"35\" y1=\"145\" x2=\"155\" y2=\"145\" style=\"stroke-width:2\" />\n",
       "\n",
       "  <!-- Vertical lines -->\n",
       "  <line x1=\"35\" y1=\"25\" x2=\"35\" y2=\"145\" style=\"stroke-width:2\" />\n",
       "  <line x1=\"155\" y1=\"25\" x2=\"155\" y2=\"145\" style=\"stroke-width:2\" />\n",
       "\n",
       "  <!-- Colored Rectangle -->\n",
       "  <polygon points=\"35.06145521482782,25.061455214827816 155.06145521482782,25.061455214827816 155.06145521482782,145.06145521482782 35.06145521482782,145.06145521482782\" style=\"fill:#ECB172A0;stroke-width:0\"/>\n",
       "\n",
       "  <!-- Text -->\n",
       "  <text x=\"95.061455\" y=\"165.061455\" font-size=\"1.0rem\" font-weight=\"100\" text-anchor=\"middle\" >4320</text>\n",
       "  <text x=\"175.061455\" y=\"85.061455\" font-size=\"1.0rem\" font-weight=\"100\" text-anchor=\"middle\" transform=\"rotate(-90,175.061455,85.061455)\">4320</text>\n",
       "  <text x=\"12.530728\" y=\"152.530728\" font-size=\"1.0rem\" font-weight=\"100\" text-anchor=\"middle\" transform=\"rotate(45,12.530728,152.530728)\">1000</text>\n",
       "</svg>\n",
       "</td>\n",
       "</tr>\n",
       "</table>"
      ],
      "text/plain": [
       "dask.array<getitem, shape=(1000, 4320, 4320), dtype=>f4, chunksize=(1, 4320, 4320), chunktype=numpy.ndarray>"
      ]
     },
     "execution_count": 8,
     "metadata": {},
     "output_type": "execute_result"
    }
   ],
   "source": [
    "# For smaller chunk sizes I use a data set of about 75 GB with a 1000 chunks. Good for reading with upto 20 workers\n",
    "data = array_dask_osn[:1000,0,:]\n",
    "data"
   ]
  },
  {
   "cell_type": "code",
   "execution_count": 9,
   "id": "republican-texas",
   "metadata": {},
   "outputs": [
    {
     "data": {
      "text/html": [
       "<table>\n",
       "<tr>\n",
       "<td>\n",
       "<table>\n",
       "  <thead>\n",
       "    <tr><td> </td><th> Array </th><th> Chunk </th></tr>\n",
       "  </thead>\n",
       "  <tbody>\n",
       "    <tr><th> Bytes </th><td> 674.09 GB </td> <td> 74.65 MB </td></tr>\n",
       "    <tr><th> Shape </th><td> (9030, 4320, 4320) </td> <td> (1, 4320, 4320) </td></tr>\n",
       "    <tr><th> Count </th><td> 126421 Tasks </td><td> 9030 Chunks </td></tr>\n",
       "    <tr><th> Type </th><td> >f4 </td><td> numpy.ndarray </td></tr>\n",
       "  </tbody>\n",
       "</table>\n",
       "</td>\n",
       "<td>\n",
       "<svg width=\"187\" height=\"177\" style=\"stroke:rgb(0,0,0);stroke-width:1\" >\n",
       "\n",
       "  <!-- Horizontal lines -->\n",
       "  <line x1=\"10\" y1=\"0\" x2=\"80\" y2=\"70\" style=\"stroke-width:2\" />\n",
       "  <line x1=\"10\" y1=\"57\" x2=\"80\" y2=\"127\" style=\"stroke-width:2\" />\n",
       "\n",
       "  <!-- Vertical lines -->\n",
       "  <line x1=\"10\" y1=\"0\" x2=\"10\" y2=\"57\" style=\"stroke-width:2\" />\n",
       "  <line x1=\"13\" y1=\"3\" x2=\"13\" y2=\"61\" />\n",
       "  <line x1=\"17\" y1=\"7\" x2=\"17\" y2=\"64\" />\n",
       "  <line x1=\"21\" y1=\"11\" x2=\"21\" y2=\"68\" />\n",
       "  <line x1=\"24\" y1=\"14\" x2=\"24\" y2=\"72\" />\n",
       "  <line x1=\"28\" y1=\"18\" x2=\"28\" y2=\"75\" />\n",
       "  <line x1=\"32\" y1=\"22\" x2=\"32\" y2=\"79\" />\n",
       "  <line x1=\"35\" y1=\"25\" x2=\"35\" y2=\"83\" />\n",
       "  <line x1=\"39\" y1=\"29\" x2=\"39\" y2=\"87\" />\n",
       "  <line x1=\"43\" y1=\"33\" x2=\"43\" y2=\"90\" />\n",
       "  <line x1=\"47\" y1=\"37\" x2=\"47\" y2=\"94\" />\n",
       "  <line x1=\"50\" y1=\"40\" x2=\"50\" y2=\"98\" />\n",
       "  <line x1=\"54\" y1=\"44\" x2=\"54\" y2=\"101\" />\n",
       "  <line x1=\"58\" y1=\"48\" x2=\"58\" y2=\"105\" />\n",
       "  <line x1=\"62\" y1=\"52\" x2=\"62\" y2=\"109\" />\n",
       "  <line x1=\"65\" y1=\"55\" x2=\"65\" y2=\"113\" />\n",
       "  <line x1=\"69\" y1=\"59\" x2=\"69\" y2=\"116\" />\n",
       "  <line x1=\"73\" y1=\"63\" x2=\"73\" y2=\"120\" />\n",
       "  <line x1=\"76\" y1=\"66\" x2=\"76\" y2=\"124\" />\n",
       "  <line x1=\"80\" y1=\"70\" x2=\"80\" y2=\"127\" style=\"stroke-width:2\" />\n",
       "\n",
       "  <!-- Colored Rectangle -->\n",
       "  <polygon points=\"10.0,0.0 80.58823529411765,70.58823529411765 80.58823529411765,127.9968731678718 10.0,57.40863787375415\" style=\"fill:#8B4903A0;stroke-width:0\"/>\n",
       "\n",
       "  <!-- Horizontal lines -->\n",
       "  <line x1=\"10\" y1=\"0\" x2=\"67\" y2=\"0\" style=\"stroke-width:2\" />\n",
       "  <line x1=\"13\" y1=\"3\" x2=\"71\" y2=\"3\" />\n",
       "  <line x1=\"17\" y1=\"7\" x2=\"74\" y2=\"7\" />\n",
       "  <line x1=\"21\" y1=\"11\" x2=\"78\" y2=\"11\" />\n",
       "  <line x1=\"24\" y1=\"14\" x2=\"82\" y2=\"14\" />\n",
       "  <line x1=\"28\" y1=\"18\" x2=\"85\" y2=\"18\" />\n",
       "  <line x1=\"32\" y1=\"22\" x2=\"89\" y2=\"22\" />\n",
       "  <line x1=\"35\" y1=\"25\" x2=\"93\" y2=\"25\" />\n",
       "  <line x1=\"39\" y1=\"29\" x2=\"97\" y2=\"29\" />\n",
       "  <line x1=\"43\" y1=\"33\" x2=\"100\" y2=\"33\" />\n",
       "  <line x1=\"47\" y1=\"37\" x2=\"104\" y2=\"37\" />\n",
       "  <line x1=\"50\" y1=\"40\" x2=\"108\" y2=\"40\" />\n",
       "  <line x1=\"54\" y1=\"44\" x2=\"111\" y2=\"44\" />\n",
       "  <line x1=\"58\" y1=\"48\" x2=\"115\" y2=\"48\" />\n",
       "  <line x1=\"62\" y1=\"52\" x2=\"119\" y2=\"52\" />\n",
       "  <line x1=\"65\" y1=\"55\" x2=\"123\" y2=\"55\" />\n",
       "  <line x1=\"69\" y1=\"59\" x2=\"126\" y2=\"59\" />\n",
       "  <line x1=\"73\" y1=\"63\" x2=\"130\" y2=\"63\" />\n",
       "  <line x1=\"76\" y1=\"66\" x2=\"134\" y2=\"66\" />\n",
       "  <line x1=\"80\" y1=\"70\" x2=\"137\" y2=\"70\" style=\"stroke-width:2\" />\n",
       "\n",
       "  <!-- Vertical lines -->\n",
       "  <line x1=\"10\" y1=\"0\" x2=\"80\" y2=\"70\" style=\"stroke-width:2\" />\n",
       "  <line x1=\"67\" y1=\"0\" x2=\"137\" y2=\"70\" style=\"stroke-width:2\" />\n",
       "\n",
       "  <!-- Colored Rectangle -->\n",
       "  <polygon points=\"10.0,0.0 67.40863787375415,0.0 137.9968731678718,70.58823529411765 80.58823529411765,70.58823529411765\" style=\"fill:#8B4903A0;stroke-width:0\"/>\n",
       "\n",
       "  <!-- Horizontal lines -->\n",
       "  <line x1=\"80\" y1=\"70\" x2=\"137\" y2=\"70\" style=\"stroke-width:2\" />\n",
       "  <line x1=\"80\" y1=\"127\" x2=\"137\" y2=\"127\" style=\"stroke-width:2\" />\n",
       "\n",
       "  <!-- Vertical lines -->\n",
       "  <line x1=\"80\" y1=\"70\" x2=\"80\" y2=\"127\" style=\"stroke-width:2\" />\n",
       "  <line x1=\"137\" y1=\"70\" x2=\"137\" y2=\"127\" style=\"stroke-width:2\" />\n",
       "\n",
       "  <!-- Colored Rectangle -->\n",
       "  <polygon points=\"80.58823529411765,70.58823529411765 137.9968731678718,70.58823529411765 137.9968731678718,127.9968731678718 80.58823529411765,127.9968731678718\" style=\"fill:#ECB172A0;stroke-width:0\"/>\n",
       "\n",
       "  <!-- Text -->\n",
       "  <text x=\"109.292554\" y=\"147.996873\" font-size=\"1.0rem\" font-weight=\"100\" text-anchor=\"middle\" >4320</text>\n",
       "  <text x=\"157.996873\" y=\"99.292554\" font-size=\"1.0rem\" font-weight=\"100\" text-anchor=\"middle\" transform=\"rotate(-90,157.996873,99.292554)\">4320</text>\n",
       "  <text x=\"35.294118\" y=\"112.702756\" font-size=\"1.0rem\" font-weight=\"100\" text-anchor=\"middle\" transform=\"rotate(45,35.294118,112.702756)\">9030</text>\n",
       "</svg>\n",
       "</td>\n",
       "</tr>\n",
       "</table>"
      ],
      "text/plain": [
       "dask.array<getitem, shape=(9030, 4320, 4320), dtype=>f4, chunksize=(1, 4320, 4320), chunktype=numpy.ndarray>"
      ]
     },
     "execution_count": 9,
     "metadata": {},
     "output_type": "execute_result"
    }
   ],
   "source": [
    "# For large chunk sizes I use a data set of about 675 GB with 9030 chunks. Good for reading with workers more than 20\n",
    "data = array_dask_osn[:,0,:]\n",
    "data"
   ]
  },
  {
   "cell_type": "code",
   "execution_count": 35,
   "id": "civilian-concrete",
   "metadata": {},
   "outputs": [],
   "source": [
    "class DevNullStore:\n",
    "\n",
    "    def __init__(self):\n",
    "        pass\n",
    "\n",
    "    def __setitem__(*args, **kwargs):\n",
    "        pass"
   ]
  },
  {
   "cell_type": "code",
   "execution_count": 36,
   "id": "critical-debut",
   "metadata": {},
   "outputs": [],
   "source": [
    "null_store = DevNullStore()\n",
    "# this line produces no error but actually does nothing\n",
    "null_store['foo'] = 'bar'"
   ]
  },
  {
   "cell_type": "code",
   "execution_count": 60,
   "id": "musical-vegetable",
   "metadata": {},
   "outputs": [
    {
     "data": {
      "application/vnd.jupyter.widget-view+json": {
       "model_id": "0fe402488e6b4deb9783b9348e3e4229",
       "version_major": 2,
       "version_minor": 0
      },
      "text/plain": [
       "VBox(children=(HTML(value='<h2>GatewayCluster</h2>'), HBox(children=(HTML(value='\\n<div>\\n<style scoped>\\n    …"
      ]
     },
     "metadata": {},
     "output_type": "display_data"
    }
   ],
   "source": [
    "from dask_gateway import Gateway\n",
    "from dask.distributed import Client\n",
    "\n",
    "gateway = Gateway()\n",
    "cluster = gateway.new_cluster()\n",
    "cluster"
   ]
  },
  {
   "cell_type": "code",
   "execution_count": 61,
   "id": "every-heart",
   "metadata": {},
   "outputs": [
    {
     "data": {
      "text/html": [
       "<table style=\"border: 2px solid white;\">\n",
       "<tr>\n",
       "<td style=\"vertical-align: top; border: 0px solid white\">\n",
       "<h3 style=\"text-align: left;\">Client</h3>\n",
       "<ul style=\"text-align: left; list-style: none; margin: 0; padding: 0;\">\n",
       "  <li><b>Scheduler: </b>gateway://traefik-gcp-uscentral1b-prod-dask-gateway.prod:80/prod.49ed01554bb1439daa9aeded90a4724d</li>\n",
       "  <li><b>Dashboard: </b><a href='/services/dask-gateway/clusters/prod.49ed01554bb1439daa9aeded90a4724d/status' target='_blank'>/services/dask-gateway/clusters/prod.49ed01554bb1439daa9aeded90a4724d/status</a></li>\n",
       "</ul>\n",
       "</td>\n",
       "<td style=\"vertical-align: top; border: 0px solid white\">\n",
       "<h3 style=\"text-align: left;\">Cluster</h3>\n",
       "<ul style=\"text-align: left; list-style:none; margin: 0; padding: 0;\">\n",
       "  <li><b>Workers: </b>0</li>\n",
       "  <li><b>Cores: </b>0</li>\n",
       "  <li><b>Memory: </b>0 B</li>\n",
       "</ul>\n",
       "</td>\n",
       "</tr>\n",
       "</table>"
      ],
      "text/plain": [
       "<Client: 'tls://10.36.10.130:8786' processes=0 threads=0, memory=0 B>"
      ]
     },
     "execution_count": 61,
     "metadata": {},
     "output_type": "execute_result"
    }
   ],
   "source": [
    "client = Client(cluster)\n",
    "client"
   ]
  },
  {
   "cell_type": "code",
   "execution_count": 62,
   "id": "noble-fifteen",
   "metadata": {},
   "outputs": [],
   "source": [
    "class DiagnosticTimer:\n",
    "    def __init__(self):\n",
    "        self.diagnostics = []\n",
    "\n",
    "    @contextmanager\n",
    "    def time(self, **kwargs):\n",
    "        tic = time.time()\n",
    "        yield\n",
    "        toc = time.time()\n",
    "        kwargs[\"runtime\"] = toc - tic\n",
    "        self.diagnostics.append(kwargs)\n",
    "\n",
    "    def dataframe(self):\n",
    "        return pd.DataFrame(self.diagnostics)\n",
    "\n",
    "diag_timer = DiagnosticTimer()\n"
   ]
  },
  {
   "cell_type": "code",
   "execution_count": 63,
   "id": "super-collector",
   "metadata": {},
   "outputs": [
    {
     "data": {
      "text/plain": [
       "74649600"
      ]
     },
     "execution_count": 63,
     "metadata": {},
     "output_type": "execute_result"
    }
   ],
   "source": [
    "chunksize = np.prod(data.chunksize) * data.dtype.itemsize\n",
    "chunksize"
   ]
  },
  {
   "cell_type": "code",
   "execution_count": 64,
   "id": "criminal-failing",
   "metadata": {},
   "outputs": [],
   "source": [
    "def total_nthreads():\n",
    "    return sum([v for v in client.nthreads().values()])\n",
    "\n",
    "def total_ncores():\n",
    "    return sum([v for v in client.ncores().values()])\n",
    "\n",
    "def total_workers():\n",
    "    return len(client.ncores())"
   ]
  },
  {
   "cell_type": "code",
   "execution_count": 65,
   "id": "twenty-refund",
   "metadata": {},
   "outputs": [
    {
     "name": "stdout",
     "output_type": "stream",
     "text": [
      "1\n",
      "2\n",
      "4\n",
      "6\n",
      "7\n",
      "8\n",
      "9\n",
      "15\n",
      "16\n"
     ]
    }
   ],
   "source": [
    "diag_kwargs = dict(nbytes=data.nbytes, chunksize=chunksize,\n",
    "                   cloud='osn', format='zarr')\n",
    "\n",
    "#1,1,2,2,4,4,6,7,8,9,15,16,20,25,30,35,40,45,50,55,60,70\n",
    "for nworkers in [1,2,4,6,7,8,9,15,16]:\n",
    "    cluster.scale(nworkers)\n",
    "    time.sleep(10)\n",
    "    client.wait_for_workers(nworkers)\n",
    "    print(nworkers)\n",
    "    with diag_timer.time(nthreads=total_nthreads(),\n",
    "                         ncores=total_ncores(),\n",
    "                         nworkers=total_workers(),\n",
    "                         **diag_kwargs):\n",
    "\n",
    "        future = dsa.store(data, null_store, lock=False, compute=False)\n",
    "        dask.compute(future, retries=5)\n",
    "\n"
   ]
  },
  {
   "cell_type": "code",
   "execution_count": 66,
   "id": "matched-sugar",
   "metadata": {},
   "outputs": [],
   "source": [
    "client.close()\n",
    "cluster.close()"
   ]
  },
  {
   "cell_type": "code",
   "execution_count": 67,
   "id": "cutting-clearing",
   "metadata": {},
   "outputs": [
    {
     "data": {
      "text/html": [
       "<div>\n",
       "<style scoped>\n",
       "    .dataframe tbody tr th:only-of-type {\n",
       "        vertical-align: middle;\n",
       "    }\n",
       "\n",
       "    .dataframe tbody tr th {\n",
       "        vertical-align: top;\n",
       "    }\n",
       "\n",
       "    .dataframe thead th {\n",
       "        text-align: right;\n",
       "    }\n",
       "</style>\n",
       "<table border=\"1\" class=\"dataframe\">\n",
       "  <thead>\n",
       "    <tr style=\"text-align: right;\">\n",
       "      <th></th>\n",
       "      <th>nthreads</th>\n",
       "      <th>ncores</th>\n",
       "      <th>nworkers</th>\n",
       "      <th>nbytes</th>\n",
       "      <th>chunksize</th>\n",
       "      <th>cloud</th>\n",
       "      <th>format</th>\n",
       "      <th>runtime</th>\n",
       "    </tr>\n",
       "  </thead>\n",
       "  <tbody>\n",
       "    <tr>\n",
       "      <th>0</th>\n",
       "      <td>2</td>\n",
       "      <td>2</td>\n",
       "      <td>1</td>\n",
       "      <td>74649600000</td>\n",
       "      <td>74649600</td>\n",
       "      <td>osn</td>\n",
       "      <td>zarr</td>\n",
       "      <td>44.555869</td>\n",
       "    </tr>\n",
       "    <tr>\n",
       "      <th>1</th>\n",
       "      <td>4</td>\n",
       "      <td>4</td>\n",
       "      <td>2</td>\n",
       "      <td>74649600000</td>\n",
       "      <td>74649600</td>\n",
       "      <td>osn</td>\n",
       "      <td>zarr</td>\n",
       "      <td>23.563483</td>\n",
       "    </tr>\n",
       "    <tr>\n",
       "      <th>2</th>\n",
       "      <td>8</td>\n",
       "      <td>8</td>\n",
       "      <td>4</td>\n",
       "      <td>74649600000</td>\n",
       "      <td>74649600</td>\n",
       "      <td>osn</td>\n",
       "      <td>zarr</td>\n",
       "      <td>13.974932</td>\n",
       "    </tr>\n",
       "    <tr>\n",
       "      <th>3</th>\n",
       "      <td>12</td>\n",
       "      <td>12</td>\n",
       "      <td>6</td>\n",
       "      <td>74649600000</td>\n",
       "      <td>74649600</td>\n",
       "      <td>osn</td>\n",
       "      <td>zarr</td>\n",
       "      <td>13.693488</td>\n",
       "    </tr>\n",
       "    <tr>\n",
       "      <th>4</th>\n",
       "      <td>14</td>\n",
       "      <td>14</td>\n",
       "      <td>7</td>\n",
       "      <td>74649600000</td>\n",
       "      <td>74649600</td>\n",
       "      <td>osn</td>\n",
       "      <td>zarr</td>\n",
       "      <td>7.671741</td>\n",
       "    </tr>\n",
       "    <tr>\n",
       "      <th>5</th>\n",
       "      <td>16</td>\n",
       "      <td>16</td>\n",
       "      <td>8</td>\n",
       "      <td>74649600000</td>\n",
       "      <td>74649600</td>\n",
       "      <td>osn</td>\n",
       "      <td>zarr</td>\n",
       "      <td>6.823653</td>\n",
       "    </tr>\n",
       "    <tr>\n",
       "      <th>6</th>\n",
       "      <td>18</td>\n",
       "      <td>18</td>\n",
       "      <td>9</td>\n",
       "      <td>74649600000</td>\n",
       "      <td>74649600</td>\n",
       "      <td>osn</td>\n",
       "      <td>zarr</td>\n",
       "      <td>6.854867</td>\n",
       "    </tr>\n",
       "    <tr>\n",
       "      <th>7</th>\n",
       "      <td>30</td>\n",
       "      <td>30</td>\n",
       "      <td>15</td>\n",
       "      <td>74649600000</td>\n",
       "      <td>74649600</td>\n",
       "      <td>osn</td>\n",
       "      <td>zarr</td>\n",
       "      <td>5.586237</td>\n",
       "    </tr>\n",
       "    <tr>\n",
       "      <th>8</th>\n",
       "      <td>32</td>\n",
       "      <td>32</td>\n",
       "      <td>16</td>\n",
       "      <td>74649600000</td>\n",
       "      <td>74649600</td>\n",
       "      <td>osn</td>\n",
       "      <td>zarr</td>\n",
       "      <td>4.224936</td>\n",
       "    </tr>\n",
       "  </tbody>\n",
       "</table>\n",
       "</div>"
      ],
      "text/plain": [
       "   nthreads  ncores  nworkers       nbytes  chunksize cloud format    runtime\n",
       "0         2       2         1  74649600000   74649600   osn   zarr  44.555869\n",
       "1         4       4         2  74649600000   74649600   osn   zarr  23.563483\n",
       "2         8       8         4  74649600000   74649600   osn   zarr  13.974932\n",
       "3        12      12         6  74649600000   74649600   osn   zarr  13.693488\n",
       "4        14      14         7  74649600000   74649600   osn   zarr   7.671741\n",
       "5        16      16         8  74649600000   74649600   osn   zarr   6.823653\n",
       "6        18      18         9  74649600000   74649600   osn   zarr   6.854867\n",
       "7        30      30        15  74649600000   74649600   osn   zarr   5.586237\n",
       "8        32      32        16  74649600000   74649600   osn   zarr   4.224936"
      ]
     },
     "execution_count": 67,
     "metadata": {},
     "output_type": "execute_result"
    }
   ],
   "source": [
    "df = diag_timer.dataframe()\n",
    "df\n"
   ]
  },
  {
   "cell_type": "code",
   "execution_count": 68,
   "id": "unusual-lover",
   "metadata": {},
   "outputs": [
    {
     "data": {
      "text/plain": [
       "<AxesSubplot:xlabel='ncores'>"
      ]
     },
     "execution_count": 68,
     "metadata": {},
     "output_type": "execute_result"
    },
    {
     "data": {
      "image/png": "[encoded data removed]",
      "text/plain": [
       "<Figure size 432x288 with 1 Axes>"
      ]
     },
     "metadata": {
      "needs_background": "light"
     },
     "output_type": "display_data"
    }
   ],
   "source": [
    "df.plot(x='ncores', y='runtime', marker='o')"
   ]
  },
  {
   "cell_type": "code",
   "execution_count": 69,
   "id": "professional-kernel",
   "metadata": {},
   "outputs": [
    {
     "data": {
      "text/plain": [
       "<AxesSubplot:xlabel='ncores'>"
      ]
     },
     "execution_count": 69,
     "metadata": {},
     "output_type": "execute_result"
    },
    {
     "data": {
      "image/png": "[encoded data removed]",
      "text/plain": [
       "<Figure size 432x288 with 1 Axes>"
      ]
     },
     "metadata": {
      "needs_background": "light"
     },
     "output_type": "display_data"
    }
   ],
   "source": [
    "df['throughput_MBps'] = df.nbytes / 1e6 / df['runtime']\n",
    "df.plot(x='ncores', y='throughput_MBps', marker='o')"
   ]
  },
  {
   "cell_type": "code",
   "execution_count": 70,
   "id": "boxed-syndrome",
   "metadata": {},
   "outputs": [
    {
     "data": {
      "text/plain": [
       "<AxesSubplot:xlabel='nthreads'>"
      ]
     },
     "execution_count": 70,
     "metadata": {},
     "output_type": "execute_result"
    },
    {
     "data": {
      "image/png": "[encoded data removed]",
      "text/plain": [
       "<Figure size 432x288 with 1 Axes>"
      ]
     },
     "metadata": {
      "needs_background": "light"
     },
     "output_type": "display_data"
    }
   ],
   "source": [
    "df['throughput_MBps_per_thread'] = df.throughput_MBps / df.nthreads\n",
    "df.plot(x='nthreads', y='throughput_MBps_per_thread', marker='o')\n",
    "\n"
   ]
  },
  {
   "cell_type": "code",
   "execution_count": 71,
   "id": "computational-election",
   "metadata": {},
   "outputs": [],
   "source": [
    "df.to_csv('osn_zarr_test-5_us_central.csv')"
   ]
  },
  {
   "cell_type": "code",
   "execution_count": 72,
   "id": "toxic-pittsburgh",
   "metadata": {},
   "outputs": [
    {
     "data": {
      "text/html": [
       "<div>\n",
       "<style scoped>\n",
       "    .dataframe tbody tr th:only-of-type {\n",
       "        vertical-align: middle;\n",
       "    }\n",
       "\n",
       "    .dataframe tbody tr th {\n",
       "        vertical-align: top;\n",
       "    }\n",
       "\n",
       "    .dataframe thead th {\n",
       "        text-align: right;\n",
       "    }\n",
       "</style>\n",
       "<table border=\"1\" class=\"dataframe\">\n",
       "  <thead>\n",
       "    <tr style=\"text-align: right;\">\n",
       "      <th></th>\n",
       "      <th>nthreads</th>\n",
       "      <th>ncores</th>\n",
       "      <th>nworkers</th>\n",
       "      <th>nbytes</th>\n",
       "      <th>chunksize</th>\n",
       "      <th>cloud</th>\n",
       "      <th>format</th>\n",
       "      <th>runtime</th>\n",
       "      <th>throughput_MBps</th>\n",
       "      <th>throughput_MBps_per_thread</th>\n",
       "    </tr>\n",
       "  </thead>\n",
       "  <tbody>\n",
       "    <tr>\n",
       "      <th>0</th>\n",
       "      <td>2</td>\n",
       "      <td>2</td>\n",
       "      <td>1</td>\n",
       "      <td>74649600000</td>\n",
       "      <td>74649600</td>\n",
       "      <td>osn</td>\n",
       "      <td>zarr</td>\n",
       "      <td>44.555869</td>\n",
       "      <td>1675.415659</td>\n",
       "      <td>837.707830</td>\n",
       "    </tr>\n",
       "    <tr>\n",
       "      <th>1</th>\n",
       "      <td>4</td>\n",
       "      <td>4</td>\n",
       "      <td>2</td>\n",
       "      <td>74649600000</td>\n",
       "      <td>74649600</td>\n",
       "      <td>osn</td>\n",
       "      <td>zarr</td>\n",
       "      <td>23.563483</td>\n",
       "      <td>3168.020555</td>\n",
       "      <td>792.005139</td>\n",
       "    </tr>\n",
       "    <tr>\n",
       "      <th>2</th>\n",
       "      <td>8</td>\n",
       "      <td>8</td>\n",
       "      <td>4</td>\n",
       "      <td>74649600000</td>\n",
       "      <td>74649600</td>\n",
       "      <td>osn</td>\n",
       "      <td>zarr</td>\n",
       "      <td>13.974932</td>\n",
       "      <td>5341.678960</td>\n",
       "      <td>667.709870</td>\n",
       "    </tr>\n",
       "    <tr>\n",
       "      <th>3</th>\n",
       "      <td>12</td>\n",
       "      <td>12</td>\n",
       "      <td>6</td>\n",
       "      <td>74649600000</td>\n",
       "      <td>74649600</td>\n",
       "      <td>osn</td>\n",
       "      <td>zarr</td>\n",
       "      <td>13.693488</td>\n",
       "      <td>5451.467292</td>\n",
       "      <td>454.288941</td>\n",
       "    </tr>\n",
       "    <tr>\n",
       "      <th>4</th>\n",
       "      <td>14</td>\n",
       "      <td>14</td>\n",
       "      <td>7</td>\n",
       "      <td>74649600000</td>\n",
       "      <td>74649600</td>\n",
       "      <td>osn</td>\n",
       "      <td>zarr</td>\n",
       "      <td>7.671741</td>\n",
       "      <td>9730.464341</td>\n",
       "      <td>695.033167</td>\n",
       "    </tr>\n",
       "    <tr>\n",
       "      <th>5</th>\n",
       "      <td>16</td>\n",
       "      <td>16</td>\n",
       "      <td>8</td>\n",
       "      <td>74649600000</td>\n",
       "      <td>74649600</td>\n",
       "      <td>osn</td>\n",
       "      <td>zarr</td>\n",
       "      <td>6.823653</td>\n",
       "      <td>10939.829471</td>\n",
       "      <td>683.739342</td>\n",
       "    </tr>\n",
       "    <tr>\n",
       "      <th>6</th>\n",
       "      <td>18</td>\n",
       "      <td>18</td>\n",
       "      <td>9</td>\n",
       "      <td>74649600000</td>\n",
       "      <td>74649600</td>\n",
       "      <td>osn</td>\n",
       "      <td>zarr</td>\n",
       "      <td>6.854867</td>\n",
       "      <td>10890.013622</td>\n",
       "      <td>605.000757</td>\n",
       "    </tr>\n",
       "    <tr>\n",
       "      <th>7</th>\n",
       "      <td>30</td>\n",
       "      <td>30</td>\n",
       "      <td>15</td>\n",
       "      <td>74649600000</td>\n",
       "      <td>74649600</td>\n",
       "      <td>osn</td>\n",
       "      <td>zarr</td>\n",
       "      <td>5.586237</td>\n",
       "      <td>13363.128098</td>\n",
       "      <td>445.437603</td>\n",
       "    </tr>\n",
       "    <tr>\n",
       "      <th>8</th>\n",
       "      <td>32</td>\n",
       "      <td>32</td>\n",
       "      <td>16</td>\n",
       "      <td>74649600000</td>\n",
       "      <td>74649600</td>\n",
       "      <td>osn</td>\n",
       "      <td>zarr</td>\n",
       "      <td>4.224936</td>\n",
       "      <td>17668.811989</td>\n",
       "      <td>552.150375</td>\n",
       "    </tr>\n",
       "  </tbody>\n",
       "</table>\n",
       "</div>"
      ],
      "text/plain": [
       "   nthreads  ncores  nworkers       nbytes  chunksize cloud format    runtime  \\\n",
       "0         2       2         1  74649600000   74649600   osn   zarr  44.555869   \n",
       "1         4       4         2  74649600000   74649600   osn   zarr  23.563483   \n",
       "2         8       8         4  74649600000   74649600   osn   zarr  13.974932   \n",
       "3        12      12         6  74649600000   74649600   osn   zarr  13.693488   \n",
       "4        14      14         7  74649600000   74649600   osn   zarr   7.671741   \n",
       "5        16      16         8  74649600000   74649600   osn   zarr   6.823653   \n",
       "6        18      18         9  74649600000   74649600   osn   zarr   6.854867   \n",
       "7        30      30        15  74649600000   74649600   osn   zarr   5.586237   \n",
       "8        32      32        16  74649600000   74649600   osn   zarr   4.224936   \n",
       "\n",
       "   throughput_MBps  throughput_MBps_per_thread  \n",
       "0      1675.415659                  837.707830  \n",
       "1      3168.020555                  792.005139  \n",
       "2      5341.678960                  667.709870  \n",
       "3      5451.467292                  454.288941  \n",
       "4      9730.464341                  695.033167  \n",
       "5     10939.829471                  683.739342  \n",
       "6     10890.013622                  605.000757  \n",
       "7     13363.128098                  445.437603  \n",
       "8     17668.811989                  552.150375  "
      ]
     },
     "execution_count": 72,
     "metadata": {},
     "output_type": "execute_result"
    }
   ],
   "source": [
    "df"
   ]
  },
  {
   "cell_type": "code",
   "execution_count": null,
   "id": "innovative-graduate",
   "metadata": {},
   "outputs": [],
   "source": []
  }
 ],
 "metadata": {
  "kernelspec": {
   "display_name": "Python 3",
   "language": "python",
   "name": "python3"
  },
  "language_info": {
   "codemirror_mode": {
    "name": "ipython",
    "version": 3
   },
   "file_extension": ".py",
   "mimetype": "text/x-python",
   "name": "python",
   "nbconvert_exporter": "python",
   "pygments_lexer": "ipython3",
   "version": "3.8.6"
  }
 },
 "nbformat": 4,
 "nbformat_minor": 5
}
