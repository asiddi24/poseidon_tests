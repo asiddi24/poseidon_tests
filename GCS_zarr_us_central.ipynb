{
 "cells": [
  {
   "cell_type": "markdown",
   "id": "thrown-jones",
   "metadata": {},
   "source": [
    "### Google Cloud Storage in Zarr format : Benchmark\n",
    "\n",
    "Notes\n",
    "- tests_2 and 3 were done with small chunk size of just 13.\n",
    "- tests_4 and 5 were done with a large chunk size of 9030"
   ]
  },
  {
   "cell_type": "code",
   "execution_count": 1,
   "id": "recognized-ready",
   "metadata": {},
   "outputs": [],
   "source": [
    "import numpy as np\n",
    "from contextlib import contextmanager\n",
    "import intake\n",
    "import time\n",
    "#import seaborn as sns\n",
    "from matplotlib import pyplot as plt"
   ]
  },
  {
   "cell_type": "code",
   "execution_count": 2,
   "id": "first-worth",
   "metadata": {},
   "outputs": [],
   "source": [
    "import s3fs\n",
    "import xarray as xr\n",
    "import dask\n",
    "import fsspec\n",
    "import zarr\n",
    "import dask.array as dsa\n",
    "import pandas as pd\n",
    "\n",
    "endpoint_url = \"https://mghp.osn.xsede.org\"\n",
    "bucket = 'cnh-bucket-1'\n"
   ]
  },
  {
   "cell_type": "code",
   "execution_count": 3,
   "id": "thorough-colleague",
   "metadata": {},
   "outputs": [],
   "source": [
    "gcs_url = 'pangeo-ecco-llc4320/ssh'\n",
    "fs_gcs = fsspec.get_filesystem_class('gs')(requester_pays=True)\n",
    "gcs_mapper = fs_gcs.get_mapper(gcs_url)"
   ]
  },
  {
   "cell_type": "code",
   "execution_count": 4,
   "id": "solved-integer",
   "metadata": {},
   "outputs": [
    {
     "name": "stdout",
     "output_type": "stream",
     "text": [
      "Name             : /\n",
      "Type             : zarr.hierarchy.Group\n",
      "Read-only        : False\n",
      "Store type       : zarr.storage.ConsolidatedMetadataStore\n",
      "Chunk store type : fsspec.mapping.FSMap\n",
      "No. members      : 5\n",
      "No. arrays       : 5\n",
      "No. groups       : 0\n",
      "Arrays           : Eta, face, i, j, time\n",
      "\n"
     ]
    }
   ],
   "source": [
    "zgroup = zarr.open_consolidated(gcs_mapper)\n",
    "print(zgroup.info)"
   ]
  },
  {
   "cell_type": "code",
   "execution_count": 5,
   "id": "preliminary-bryan",
   "metadata": {},
   "outputs": [],
   "source": [
    "array = zgroup['Eta']"
   ]
  },
  {
   "cell_type": "code",
   "execution_count": 6,
   "id": "swedish-minneapolis",
   "metadata": {},
   "outputs": [
    {
     "data": {
      "text/html": [
       "<table>\n",
       "<tr>\n",
       "<td>\n",
       "<table>\n",
       "  <thead>\n",
       "    <tr><td> </td><th> Array </th><th> Chunk </th></tr>\n",
       "  </thead>\n",
       "  <tbody>\n",
       "    <tr><th> Bytes </th><td> 8.76 TB </td> <td> 74.65 MB </td></tr>\n",
       "    <tr><th> Shape </th><td> (9030, 13, 4320, 4320) </td> <td> (1, 1, 4320, 4320) </td></tr>\n",
       "    <tr><th> Count </th><td> 117391 Tasks </td><td> 117390 Chunks </td></tr>\n",
       "    <tr><th> Type </th><td> >f4 </td><td> numpy.ndarray </td></tr>\n",
       "  </tbody>\n",
       "</table>\n",
       "</td>\n",
       "<td>\n",
       "<svg width=\"502\" height=\"122\" style=\"stroke:rgb(0,0,0);stroke-width:1\" >\n",
       "\n",
       "  <!-- Horizontal lines -->\n",
       "  <line x1=\"0\" y1=\"0\" x2=\"120\" y2=\"0\" style=\"stroke-width:2\" />\n",
       "  <line x1=\"0\" y1=\"25\" x2=\"120\" y2=\"25\" style=\"stroke-width:2\" />\n",
       "\n",
       "  <!-- Vertical lines -->\n",
       "  <line x1=\"0\" y1=\"0\" x2=\"0\" y2=\"25\" style=\"stroke-width:2\" />\n",
       "  <line x1=\"3\" y1=\"0\" x2=\"3\" y2=\"25\" />\n",
       "  <line x1=\"7\" y1=\"0\" x2=\"7\" y2=\"25\" />\n",
       "  <line x1=\"11\" y1=\"0\" x2=\"11\" y2=\"25\" />\n",
       "  <line x1=\"14\" y1=\"0\" x2=\"14\" y2=\"25\" />\n",
       "  <line x1=\"18\" y1=\"0\" x2=\"18\" y2=\"25\" />\n",
       "  <line x1=\"22\" y1=\"0\" x2=\"22\" y2=\"25\" />\n",
       "  <line x1=\"26\" y1=\"0\" x2=\"26\" y2=\"25\" />\n",
       "  <line x1=\"29\" y1=\"0\" x2=\"29\" y2=\"25\" />\n",
       "  <line x1=\"33\" y1=\"0\" x2=\"33\" y2=\"25\" />\n",
       "  <line x1=\"37\" y1=\"0\" x2=\"37\" y2=\"25\" />\n",
       "  <line x1=\"41\" y1=\"0\" x2=\"41\" y2=\"25\" />\n",
       "  <line x1=\"44\" y1=\"0\" x2=\"44\" y2=\"25\" />\n",
       "  <line x1=\"48\" y1=\"0\" x2=\"48\" y2=\"25\" />\n",
       "  <line x1=\"52\" y1=\"0\" x2=\"52\" y2=\"25\" />\n",
       "  <line x1=\"56\" y1=\"0\" x2=\"56\" y2=\"25\" />\n",
       "  <line x1=\"60\" y1=\"0\" x2=\"60\" y2=\"25\" />\n",
       "  <line x1=\"63\" y1=\"0\" x2=\"63\" y2=\"25\" />\n",
       "  <line x1=\"67\" y1=\"0\" x2=\"67\" y2=\"25\" />\n",
       "  <line x1=\"71\" y1=\"0\" x2=\"71\" y2=\"25\" />\n",
       "  <line x1=\"74\" y1=\"0\" x2=\"74\" y2=\"25\" />\n",
       "  <line x1=\"78\" y1=\"0\" x2=\"78\" y2=\"25\" />\n",
       "  <line x1=\"82\" y1=\"0\" x2=\"82\" y2=\"25\" />\n",
       "  <line x1=\"86\" y1=\"0\" x2=\"86\" y2=\"25\" />\n",
       "  <line x1=\"89\" y1=\"0\" x2=\"89\" y2=\"25\" />\n",
       "  <line x1=\"93\" y1=\"0\" x2=\"93\" y2=\"25\" />\n",
       "  <line x1=\"97\" y1=\"0\" x2=\"97\" y2=\"25\" />\n",
       "  <line x1=\"101\" y1=\"0\" x2=\"101\" y2=\"25\" />\n",
       "  <line x1=\"104\" y1=\"0\" x2=\"104\" y2=\"25\" />\n",
       "  <line x1=\"108\" y1=\"0\" x2=\"108\" y2=\"25\" />\n",
       "  <line x1=\"112\" y1=\"0\" x2=\"112\" y2=\"25\" />\n",
       "  <line x1=\"116\" y1=\"0\" x2=\"116\" y2=\"25\" />\n",
       "  <line x1=\"120\" y1=\"0\" x2=\"120\" y2=\"25\" style=\"stroke-width:2\" />\n",
       "\n",
       "  <!-- Colored Rectangle -->\n",
       "  <polygon points=\"0.0,0.0 120.0,0.0 120.0,25.412616514582485 0.0,25.412616514582485\" style=\"fill:#8B4903A0;stroke-width:0\"/>\n",
       "\n",
       "  <!-- Text -->\n",
       "  <text x=\"60.000000\" y=\"45.412617\" font-size=\"1.0rem\" font-weight=\"100\" text-anchor=\"middle\" >9030</text>\n",
       "  <text x=\"140.000000\" y=\"12.706308\" font-size=\"1.0rem\" font-weight=\"100\" text-anchor=\"middle\" transform=\"rotate(0,140.000000,12.706308)\">1</text>\n",
       "\n",
       "\n",
       "  <!-- Horizontal lines -->\n",
       "  <line x1=\"190\" y1=\"0\" x2=\"204\" y2=\"14\" style=\"stroke-width:2\" />\n",
       "  <line x1=\"190\" y1=\"57\" x2=\"204\" y2=\"72\" style=\"stroke-width:2\" />\n",
       "\n",
       "  <!-- Vertical lines -->\n",
       "  <line x1=\"190\" y1=\"0\" x2=\"190\" y2=\"57\" style=\"stroke-width:2\" />\n",
       "  <line x1=\"191\" y1=\"1\" x2=\"191\" y2=\"58\" />\n",
       "  <line x1=\"192\" y1=\"2\" x2=\"192\" y2=\"59\" />\n",
       "  <line x1=\"193\" y1=\"3\" x2=\"193\" y2=\"60\" />\n",
       "  <line x1=\"194\" y1=\"4\" x2=\"194\" y2=\"62\" />\n",
       "  <line x1=\"195\" y1=\"5\" x2=\"195\" y2=\"63\" />\n",
       "  <line x1=\"196\" y1=\"6\" x2=\"196\" y2=\"64\" />\n",
       "  <line x1=\"198\" y1=\"8\" x2=\"198\" y2=\"65\" />\n",
       "  <line x1=\"199\" y1=\"9\" x2=\"199\" y2=\"66\" />\n",
       "  <line x1=\"200\" y1=\"10\" x2=\"200\" y2=\"67\" />\n",
       "  <line x1=\"201\" y1=\"11\" x2=\"201\" y2=\"68\" />\n",
       "  <line x1=\"202\" y1=\"12\" x2=\"202\" y2=\"70\" />\n",
       "  <line x1=\"203\" y1=\"13\" x2=\"203\" y2=\"71\" />\n",
       "  <line x1=\"204\" y1=\"14\" x2=\"204\" y2=\"72\" style=\"stroke-width:2\" />\n",
       "\n",
       "  <!-- Colored Rectangle -->\n",
       "  <polygon points=\"190.0,0.0 204.9485979497544,14.948597949754403 204.9485979497544,72.35723582350856 190.0,57.40863787375415\" style=\"fill:#ECB172A0;stroke-width:0\"/>\n",
       "\n",
       "  <!-- Horizontal lines -->\n",
       "  <line x1=\"190\" y1=\"0\" x2=\"247\" y2=\"0\" style=\"stroke-width:2\" />\n",
       "  <line x1=\"191\" y1=\"1\" x2=\"248\" y2=\"1\" />\n",
       "  <line x1=\"192\" y1=\"2\" x2=\"249\" y2=\"2\" />\n",
       "  <line x1=\"193\" y1=\"3\" x2=\"250\" y2=\"3\" />\n",
       "  <line x1=\"194\" y1=\"4\" x2=\"252\" y2=\"4\" />\n",
       "  <line x1=\"195\" y1=\"5\" x2=\"253\" y2=\"5\" />\n",
       "  <line x1=\"196\" y1=\"6\" x2=\"254\" y2=\"6\" />\n",
       "  <line x1=\"198\" y1=\"8\" x2=\"255\" y2=\"8\" />\n",
       "  <line x1=\"199\" y1=\"9\" x2=\"256\" y2=\"9\" />\n",
       "  <line x1=\"200\" y1=\"10\" x2=\"257\" y2=\"10\" />\n",
       "  <line x1=\"201\" y1=\"11\" x2=\"258\" y2=\"11\" />\n",
       "  <line x1=\"202\" y1=\"12\" x2=\"260\" y2=\"12\" />\n",
       "  <line x1=\"203\" y1=\"13\" x2=\"261\" y2=\"13\" />\n",
       "  <line x1=\"204\" y1=\"14\" x2=\"262\" y2=\"14\" style=\"stroke-width:2\" />\n",
       "\n",
       "  <!-- Vertical lines -->\n",
       "  <line x1=\"190\" y1=\"0\" x2=\"204\" y2=\"14\" style=\"stroke-width:2\" />\n",
       "  <line x1=\"247\" y1=\"0\" x2=\"262\" y2=\"14\" style=\"stroke-width:2\" />\n",
       "\n",
       "  <!-- Colored Rectangle -->\n",
       "  <polygon points=\"190.0,0.0 247.40863787375415,0.0 262.3572358235086,14.948597949754403 204.9485979497544,14.948597949754403\" style=\"fill:#ECB172A0;stroke-width:0\"/>\n",
       "\n",
       "  <!-- Horizontal lines -->\n",
       "  <line x1=\"204\" y1=\"14\" x2=\"262\" y2=\"14\" style=\"stroke-width:2\" />\n",
       "  <line x1=\"204\" y1=\"72\" x2=\"262\" y2=\"72\" style=\"stroke-width:2\" />\n",
       "\n",
       "  <!-- Vertical lines -->\n",
       "  <line x1=\"204\" y1=\"14\" x2=\"204\" y2=\"72\" style=\"stroke-width:2\" />\n",
       "  <line x1=\"262\" y1=\"14\" x2=\"262\" y2=\"72\" style=\"stroke-width:2\" />\n",
       "\n",
       "  <!-- Colored Rectangle -->\n",
       "  <polygon points=\"204.9485979497544,14.948597949754403 262.3572358235086,14.948597949754403 262.3572358235086,72.35723582350856 204.9485979497544,72.35723582350856\" style=\"fill:#ECB172A0;stroke-width:0\"/>\n",
       "\n",
       "  <!-- Text -->\n",
       "  <text x=\"233.652917\" y=\"92.357236\" font-size=\"1.0rem\" font-weight=\"100\" text-anchor=\"middle\" >4320</text>\n",
       "  <text x=\"282.357236\" y=\"43.652917\" font-size=\"1.0rem\" font-weight=\"100\" text-anchor=\"middle\" transform=\"rotate(-90,282.357236,43.652917)\">4320</text>\n",
       "  <text x=\"187.474299\" y=\"84.882937\" font-size=\"1.0rem\" font-weight=\"100\" text-anchor=\"middle\" transform=\"rotate(45,187.474299,84.882937)\">13</text>\n",
       "</svg>\n",
       "</td>\n",
       "</tr>\n",
       "</table>"
      ],
      "text/plain": [
       "dask.array<from-zarr, shape=(9030, 13, 4320, 4320), dtype=>f4, chunksize=(1, 1, 4320, 4320), chunktype=numpy.ndarray>"
      ]
     },
     "execution_count": 6,
     "metadata": {},
     "output_type": "execute_result"
    }
   ],
   "source": [
    "array_dask = dask.array.from_zarr(array)\n",
    "array_dask"
   ]
  },
  {
   "cell_type": "code",
   "execution_count": 7,
   "id": "aggregate-engine",
   "metadata": {},
   "outputs": [
    {
     "name": "stdout",
     "output_type": "stream",
     "text": [
      "CPU times: user 3.72 s, sys: 5.85 s, total: 9.57 s\n",
      "Wall time: 5.82 s\n"
     ]
    }
   ],
   "source": [
    "%time _ = array_dask[0].compute()"
   ]
  },
  {
   "cell_type": "markdown",
   "id": "executed-study",
   "metadata": {},
   "source": [
    "## This is where I manually change the data for small v/s large chunk sizes. "
   ]
  },
  {
   "cell_type": "code",
   "execution_count": 8,
   "id": "faced-formation",
   "metadata": {},
   "outputs": [
    {
     "data": {
      "text/html": [
       "<table>\n",
       "<tr>\n",
       "<td>\n",
       "<table>\n",
       "  <thead>\n",
       "    <tr><td> </td><th> Array </th><th> Chunk </th></tr>\n",
       "  </thead>\n",
       "  <tbody>\n",
       "    <tr><th> Bytes </th><td> 74.65 GB </td> <td> 74.65 MB </td></tr>\n",
       "    <tr><th> Shape </th><td> (1000, 4320, 4320) </td> <td> (1, 4320, 4320) </td></tr>\n",
       "    <tr><th> Count </th><td> 118391 Tasks </td><td> 1000 Chunks </td></tr>\n",
       "    <tr><th> Type </th><td> >f4 </td><td> numpy.ndarray </td></tr>\n",
       "  </tbody>\n",
       "</table>\n",
       "</td>\n",
       "<td>\n",
       "<svg width=\"205\" height=\"195\" style=\"stroke:rgb(0,0,0);stroke-width:1\" >\n",
       "\n",
       "  <!-- Horizontal lines -->\n",
       "  <line x1=\"10\" y1=\"0\" x2=\"35\" y2=\"25\" style=\"stroke-width:2\" />\n",
       "  <line x1=\"10\" y1=\"120\" x2=\"35\" y2=\"145\" style=\"stroke-width:2\" />\n",
       "\n",
       "  <!-- Vertical lines -->\n",
       "  <line x1=\"10\" y1=\"0\" x2=\"10\" y2=\"120\" style=\"stroke-width:2\" />\n",
       "  <line x1=\"11\" y1=\"1\" x2=\"11\" y2=\"121\" />\n",
       "  <line x1=\"12\" y1=\"2\" x2=\"12\" y2=\"122\" />\n",
       "  <line x1=\"13\" y1=\"3\" x2=\"13\" y2=\"123\" />\n",
       "  <line x1=\"15\" y1=\"5\" x2=\"15\" y2=\"125\" />\n",
       "  <line x1=\"16\" y1=\"6\" x2=\"16\" y2=\"126\" />\n",
       "  <line x1=\"17\" y1=\"7\" x2=\"17\" y2=\"127\" />\n",
       "  <line x1=\"19\" y1=\"9\" x2=\"19\" y2=\"129\" />\n",
       "  <line x1=\"20\" y1=\"10\" x2=\"20\" y2=\"130\" />\n",
       "  <line x1=\"21\" y1=\"11\" x2=\"21\" y2=\"131\" />\n",
       "  <line x1=\"23\" y1=\"13\" x2=\"23\" y2=\"133\" />\n",
       "  <line x1=\"24\" y1=\"14\" x2=\"24\" y2=\"134\" />\n",
       "  <line x1=\"25\" y1=\"15\" x2=\"25\" y2=\"135\" />\n",
       "  <line x1=\"27\" y1=\"17\" x2=\"27\" y2=\"137\" />\n",
       "  <line x1=\"28\" y1=\"18\" x2=\"28\" y2=\"138\" />\n",
       "  <line x1=\"29\" y1=\"19\" x2=\"29\" y2=\"139\" />\n",
       "  <line x1=\"31\" y1=\"21\" x2=\"31\" y2=\"141\" />\n",
       "  <line x1=\"32\" y1=\"22\" x2=\"32\" y2=\"142\" />\n",
       "  <line x1=\"33\" y1=\"23\" x2=\"33\" y2=\"143\" />\n",
       "  <line x1=\"35\" y1=\"25\" x2=\"35\" y2=\"145\" style=\"stroke-width:2\" />\n",
       "\n",
       "  <!-- Colored Rectangle -->\n",
       "  <polygon points=\"10.0,0.0 35.06145521482782,25.061455214827816 35.06145521482782,145.06145521482782 10.0,120.0\" style=\"fill:#8B4903A0;stroke-width:0\"/>\n",
       "\n",
       "  <!-- Horizontal lines -->\n",
       "  <line x1=\"10\" y1=\"0\" x2=\"130\" y2=\"0\" style=\"stroke-width:2\" />\n",
       "  <line x1=\"11\" y1=\"1\" x2=\"131\" y2=\"1\" />\n",
       "  <line x1=\"12\" y1=\"2\" x2=\"132\" y2=\"2\" />\n",
       "  <line x1=\"13\" y1=\"3\" x2=\"133\" y2=\"3\" />\n",
       "  <line x1=\"15\" y1=\"5\" x2=\"135\" y2=\"5\" />\n",
       "  <line x1=\"16\" y1=\"6\" x2=\"136\" y2=\"6\" />\n",
       "  <line x1=\"17\" y1=\"7\" x2=\"137\" y2=\"7\" />\n",
       "  <line x1=\"19\" y1=\"9\" x2=\"139\" y2=\"9\" />\n",
       "  <line x1=\"20\" y1=\"10\" x2=\"140\" y2=\"10\" />\n",
       "  <line x1=\"21\" y1=\"11\" x2=\"141\" y2=\"11\" />\n",
       "  <line x1=\"23\" y1=\"13\" x2=\"143\" y2=\"13\" />\n",
       "  <line x1=\"24\" y1=\"14\" x2=\"144\" y2=\"14\" />\n",
       "  <line x1=\"25\" y1=\"15\" x2=\"145\" y2=\"15\" />\n",
       "  <line x1=\"27\" y1=\"17\" x2=\"147\" y2=\"17\" />\n",
       "  <line x1=\"28\" y1=\"18\" x2=\"148\" y2=\"18\" />\n",
       "  <line x1=\"29\" y1=\"19\" x2=\"149\" y2=\"19\" />\n",
       "  <line x1=\"31\" y1=\"21\" x2=\"151\" y2=\"21\" />\n",
       "  <line x1=\"32\" y1=\"22\" x2=\"152\" y2=\"22\" />\n",
       "  <line x1=\"33\" y1=\"23\" x2=\"153\" y2=\"23\" />\n",
       "  <line x1=\"35\" y1=\"25\" x2=\"155\" y2=\"25\" style=\"stroke-width:2\" />\n",
       "\n",
       "  <!-- Vertical lines -->\n",
       "  <line x1=\"10\" y1=\"0\" x2=\"35\" y2=\"25\" style=\"stroke-width:2\" />\n",
       "  <line x1=\"130\" y1=\"0\" x2=\"155\" y2=\"25\" style=\"stroke-width:2\" />\n",
       "\n",
       "  <!-- Colored Rectangle -->\n",
       "  <polygon points=\"10.0,0.0 130.0,0.0 155.06145521482782,25.061455214827816 35.06145521482782,25.061455214827816\" style=\"fill:#8B4903A0;stroke-width:0\"/>\n",
       "\n",
       "  <!-- Horizontal lines -->\n",
       "  <line x1=\"35\" y1=\"25\" x2=\"155\" y2=\"25\" style=\"stroke-width:2\" />\n",
       "  <line x1=\"35\" y1=\"145\" x2=\"155\" y2=\"145\" style=\"stroke-width:2\" />\n",
       "\n",
       "  <!-- Vertical lines -->\n",
       "  <line x1=\"35\" y1=\"25\" x2=\"35\" y2=\"145\" style=\"stroke-width:2\" />\n",
       "  <line x1=\"155\" y1=\"25\" x2=\"155\" y2=\"145\" style=\"stroke-width:2\" />\n",
       "\n",
       "  <!-- Colored Rectangle -->\n",
       "  <polygon points=\"35.06145521482782,25.061455214827816 155.06145521482782,25.061455214827816 155.06145521482782,145.06145521482782 35.06145521482782,145.06145521482782\" style=\"fill:#ECB172A0;stroke-width:0\"/>\n",
       "\n",
       "  <!-- Text -->\n",
       "  <text x=\"95.061455\" y=\"165.061455\" font-size=\"1.0rem\" font-weight=\"100\" text-anchor=\"middle\" >4320</text>\n",
       "  <text x=\"175.061455\" y=\"85.061455\" font-size=\"1.0rem\" font-weight=\"100\" text-anchor=\"middle\" transform=\"rotate(-90,175.061455,85.061455)\">4320</text>\n",
       "  <text x=\"12.530728\" y=\"152.530728\" font-size=\"1.0rem\" font-weight=\"100\" text-anchor=\"middle\" transform=\"rotate(45,12.530728,152.530728)\">1000</text>\n",
       "</svg>\n",
       "</td>\n",
       "</tr>\n",
       "</table>"
      ],
      "text/plain": [
       "dask.array<getitem, shape=(1000, 4320, 4320), dtype=>f4, chunksize=(1, 4320, 4320), chunktype=numpy.ndarray>"
      ]
     },
     "execution_count": 8,
     "metadata": {},
     "output_type": "execute_result"
    }
   ],
   "source": [
    "# For smaller chunk sizes I use a data set of about 75 GB with a 1000 chunks. Good for reading with upto 20 workers\n",
    "data = array_dask[:1000,0,:]\n",
    "data"
   ]
  },
  {
   "cell_type": "code",
   "execution_count": 9,
   "id": "attached-split",
   "metadata": {},
   "outputs": [
    {
     "data": {
      "text/html": [
       "<table>\n",
       "<tr>\n",
       "<td>\n",
       "<table>\n",
       "  <thead>\n",
       "    <tr><td> </td><th> Array </th><th> Chunk </th></tr>\n",
       "  </thead>\n",
       "  <tbody>\n",
       "    <tr><th> Bytes </th><td> 674.09 GB </td> <td> 74.65 MB </td></tr>\n",
       "    <tr><th> Shape </th><td> (9030, 4320, 4320) </td> <td> (1, 4320, 4320) </td></tr>\n",
       "    <tr><th> Count </th><td> 126421 Tasks </td><td> 9030 Chunks </td></tr>\n",
       "    <tr><th> Type </th><td> >f4 </td><td> numpy.ndarray </td></tr>\n",
       "  </tbody>\n",
       "</table>\n",
       "</td>\n",
       "<td>\n",
       "<svg width=\"187\" height=\"177\" style=\"stroke:rgb(0,0,0);stroke-width:1\" >\n",
       "\n",
       "  <!-- Horizontal lines -->\n",
       "  <line x1=\"10\" y1=\"0\" x2=\"80\" y2=\"70\" style=\"stroke-width:2\" />\n",
       "  <line x1=\"10\" y1=\"57\" x2=\"80\" y2=\"127\" style=\"stroke-width:2\" />\n",
       "\n",
       "  <!-- Vertical lines -->\n",
       "  <line x1=\"10\" y1=\"0\" x2=\"10\" y2=\"57\" style=\"stroke-width:2\" />\n",
       "  <line x1=\"13\" y1=\"3\" x2=\"13\" y2=\"61\" />\n",
       "  <line x1=\"17\" y1=\"7\" x2=\"17\" y2=\"64\" />\n",
       "  <line x1=\"21\" y1=\"11\" x2=\"21\" y2=\"68\" />\n",
       "  <line x1=\"24\" y1=\"14\" x2=\"24\" y2=\"72\" />\n",
       "  <line x1=\"28\" y1=\"18\" x2=\"28\" y2=\"75\" />\n",
       "  <line x1=\"32\" y1=\"22\" x2=\"32\" y2=\"79\" />\n",
       "  <line x1=\"35\" y1=\"25\" x2=\"35\" y2=\"83\" />\n",
       "  <line x1=\"39\" y1=\"29\" x2=\"39\" y2=\"87\" />\n",
       "  <line x1=\"43\" y1=\"33\" x2=\"43\" y2=\"90\" />\n",
       "  <line x1=\"47\" y1=\"37\" x2=\"47\" y2=\"94\" />\n",
       "  <line x1=\"50\" y1=\"40\" x2=\"50\" y2=\"98\" />\n",
       "  <line x1=\"54\" y1=\"44\" x2=\"54\" y2=\"101\" />\n",
       "  <line x1=\"58\" y1=\"48\" x2=\"58\" y2=\"105\" />\n",
       "  <line x1=\"62\" y1=\"52\" x2=\"62\" y2=\"109\" />\n",
       "  <line x1=\"65\" y1=\"55\" x2=\"65\" y2=\"113\" />\n",
       "  <line x1=\"69\" y1=\"59\" x2=\"69\" y2=\"116\" />\n",
       "  <line x1=\"73\" y1=\"63\" x2=\"73\" y2=\"120\" />\n",
       "  <line x1=\"76\" y1=\"66\" x2=\"76\" y2=\"124\" />\n",
       "  <line x1=\"80\" y1=\"70\" x2=\"80\" y2=\"127\" style=\"stroke-width:2\" />\n",
       "\n",
       "  <!-- Colored Rectangle -->\n",
       "  <polygon points=\"10.0,0.0 80.58823529411765,70.58823529411765 80.58823529411765,127.9968731678718 10.0,57.40863787375415\" style=\"fill:#8B4903A0;stroke-width:0\"/>\n",
       "\n",
       "  <!-- Horizontal lines -->\n",
       "  <line x1=\"10\" y1=\"0\" x2=\"67\" y2=\"0\" style=\"stroke-width:2\" />\n",
       "  <line x1=\"13\" y1=\"3\" x2=\"71\" y2=\"3\" />\n",
       "  <line x1=\"17\" y1=\"7\" x2=\"74\" y2=\"7\" />\n",
       "  <line x1=\"21\" y1=\"11\" x2=\"78\" y2=\"11\" />\n",
       "  <line x1=\"24\" y1=\"14\" x2=\"82\" y2=\"14\" />\n",
       "  <line x1=\"28\" y1=\"18\" x2=\"85\" y2=\"18\" />\n",
       "  <line x1=\"32\" y1=\"22\" x2=\"89\" y2=\"22\" />\n",
       "  <line x1=\"35\" y1=\"25\" x2=\"93\" y2=\"25\" />\n",
       "  <line x1=\"39\" y1=\"29\" x2=\"97\" y2=\"29\" />\n",
       "  <line x1=\"43\" y1=\"33\" x2=\"100\" y2=\"33\" />\n",
       "  <line x1=\"47\" y1=\"37\" x2=\"104\" y2=\"37\" />\n",
       "  <line x1=\"50\" y1=\"40\" x2=\"108\" y2=\"40\" />\n",
       "  <line x1=\"54\" y1=\"44\" x2=\"111\" y2=\"44\" />\n",
       "  <line x1=\"58\" y1=\"48\" x2=\"115\" y2=\"48\" />\n",
       "  <line x1=\"62\" y1=\"52\" x2=\"119\" y2=\"52\" />\n",
       "  <line x1=\"65\" y1=\"55\" x2=\"123\" y2=\"55\" />\n",
       "  <line x1=\"69\" y1=\"59\" x2=\"126\" y2=\"59\" />\n",
       "  <line x1=\"73\" y1=\"63\" x2=\"130\" y2=\"63\" />\n",
       "  <line x1=\"76\" y1=\"66\" x2=\"134\" y2=\"66\" />\n",
       "  <line x1=\"80\" y1=\"70\" x2=\"137\" y2=\"70\" style=\"stroke-width:2\" />\n",
       "\n",
       "  <!-- Vertical lines -->\n",
       "  <line x1=\"10\" y1=\"0\" x2=\"80\" y2=\"70\" style=\"stroke-width:2\" />\n",
       "  <line x1=\"67\" y1=\"0\" x2=\"137\" y2=\"70\" style=\"stroke-width:2\" />\n",
       "\n",
       "  <!-- Colored Rectangle -->\n",
       "  <polygon points=\"10.0,0.0 67.40863787375415,0.0 137.9968731678718,70.58823529411765 80.58823529411765,70.58823529411765\" style=\"fill:#8B4903A0;stroke-width:0\"/>\n",
       "\n",
       "  <!-- Horizontal lines -->\n",
       "  <line x1=\"80\" y1=\"70\" x2=\"137\" y2=\"70\" style=\"stroke-width:2\" />\n",
       "  <line x1=\"80\" y1=\"127\" x2=\"137\" y2=\"127\" style=\"stroke-width:2\" />\n",
       "\n",
       "  <!-- Vertical lines -->\n",
       "  <line x1=\"80\" y1=\"70\" x2=\"80\" y2=\"127\" style=\"stroke-width:2\" />\n",
       "  <line x1=\"137\" y1=\"70\" x2=\"137\" y2=\"127\" style=\"stroke-width:2\" />\n",
       "\n",
       "  <!-- Colored Rectangle -->\n",
       "  <polygon points=\"80.58823529411765,70.58823529411765 137.9968731678718,70.58823529411765 137.9968731678718,127.9968731678718 80.58823529411765,127.9968731678718\" style=\"fill:#ECB172A0;stroke-width:0\"/>\n",
       "\n",
       "  <!-- Text -->\n",
       "  <text x=\"109.292554\" y=\"147.996873\" font-size=\"1.0rem\" font-weight=\"100\" text-anchor=\"middle\" >4320</text>\n",
       "  <text x=\"157.996873\" y=\"99.292554\" font-size=\"1.0rem\" font-weight=\"100\" text-anchor=\"middle\" transform=\"rotate(-90,157.996873,99.292554)\">4320</text>\n",
       "  <text x=\"35.294118\" y=\"112.702756\" font-size=\"1.0rem\" font-weight=\"100\" text-anchor=\"middle\" transform=\"rotate(45,35.294118,112.702756)\">9030</text>\n",
       "</svg>\n",
       "</td>\n",
       "</tr>\n",
       "</table>"
      ],
      "text/plain": [
       "dask.array<getitem, shape=(9030, 4320, 4320), dtype=>f4, chunksize=(1, 4320, 4320), chunktype=numpy.ndarray>"
      ]
     },
     "execution_count": 9,
     "metadata": {},
     "output_type": "execute_result"
    }
   ],
   "source": [
    "# For large chunk sizes I use a data set of about 675 GB with 9030 chunks. Good for reading with workers more than 20\n",
    "#data = array_dask[:,0,:]\n",
    "#data"
   ]
  },
  {
   "cell_type": "markdown",
   "id": "moving-hunter",
   "metadata": {},
   "source": [
    "### Setting up Benchmarking"
   ]
  },
  {
   "cell_type": "code",
   "execution_count": 17,
   "id": "imperial-fellowship",
   "metadata": {},
   "outputs": [],
   "source": [
    "class DevNullStore:\n",
    "\n",
    "    def __init__(self):\n",
    "        pass\n",
    "\n",
    "    def __setitem__(*args, **kwargs):\n",
    "        pass"
   ]
  },
  {
   "cell_type": "code",
   "execution_count": 18,
   "id": "quality-mount",
   "metadata": {},
   "outputs": [],
   "source": [
    "null_store = DevNullStore()\n",
    "# this line produces no error but actually does nothing\n",
    "null_store['foo'] = 'bar'"
   ]
  },
  {
   "cell_type": "code",
   "execution_count": 35,
   "id": "ready-bundle",
   "metadata": {},
   "outputs": [
    {
     "data": {
      "application/vnd.jupyter.widget-view+json": {
       "model_id": "b0810b3727fc4d2caa45748c3f27f030",
       "version_major": 2,
       "version_minor": 0
      },
      "text/plain": [
       "VBox(children=(HTML(value='<h2>GatewayCluster</h2>'), HBox(children=(HTML(value='\\n<div>\\n<style scoped>\\n    …"
      ]
     },
     "metadata": {},
     "output_type": "display_data"
    }
   ],
   "source": [
    "from dask_gateway import Gateway\n",
    "from dask.distributed import Client\n",
    "\n",
    "gateway = Gateway()\n",
    "cluster = gateway.new_cluster()\n",
    "cluster"
   ]
  },
  {
   "cell_type": "code",
   "execution_count": 36,
   "id": "soviet-poland",
   "metadata": {},
   "outputs": [
    {
     "data": {
      "text/html": [
       "<table style=\"border: 2px solid white;\">\n",
       "<tr>\n",
       "<td style=\"vertical-align: top; border: 0px solid white\">\n",
       "<h3 style=\"text-align: left;\">Client</h3>\n",
       "<ul style=\"text-align: left; list-style: none; margin: 0; padding: 0;\">\n",
       "  <li><b>Scheduler: </b>gateway://traefik-gcp-uscentral1b-prod-dask-gateway.prod:80/prod.7b155c3c04664c18a6055c274e66ba0e</li>\n",
       "  <li><b>Dashboard: </b><a href='/services/dask-gateway/clusters/prod.7b155c3c04664c18a6055c274e66ba0e/status' target='_blank'>/services/dask-gateway/clusters/prod.7b155c3c04664c18a6055c274e66ba0e/status</a></li>\n",
       "</ul>\n",
       "</td>\n",
       "<td style=\"vertical-align: top; border: 0px solid white\">\n",
       "<h3 style=\"text-align: left;\">Cluster</h3>\n",
       "<ul style=\"text-align: left; list-style:none; margin: 0; padding: 0;\">\n",
       "  <li><b>Workers: </b>0</li>\n",
       "  <li><b>Cores: </b>0</li>\n",
       "  <li><b>Memory: </b>0 B</li>\n",
       "</ul>\n",
       "</td>\n",
       "</tr>\n",
       "</table>"
      ],
      "text/plain": [
       "<Client: 'tls://10.37.161.5:8786' processes=0 threads=0, memory=0 B>"
      ]
     },
     "execution_count": 36,
     "metadata": {},
     "output_type": "execute_result"
    }
   ],
   "source": [
    "client = Client(cluster)\n",
    "client"
   ]
  },
  {
   "cell_type": "code",
   "execution_count": 37,
   "id": "static-arthritis",
   "metadata": {},
   "outputs": [],
   "source": [
    "class DiagnosticTimer:\n",
    "    def __init__(self):\n",
    "        self.diagnostics = []\n",
    "\n",
    "    @contextmanager\n",
    "    def time(self, **kwargs):\n",
    "        tic = time.time()\n",
    "        yield\n",
    "        toc = time.time()\n",
    "        kwargs[\"runtime\"] = toc - tic\n",
    "        self.diagnostics.append(kwargs)\n",
    "\n",
    "    def dataframe(self):\n",
    "        return pd.DataFrame(self.diagnostics)\n",
    "\n",
    "diag_timer = DiagnosticTimer()\n"
   ]
  },
  {
   "cell_type": "code",
   "execution_count": 38,
   "id": "entertaining-virgin",
   "metadata": {},
   "outputs": [
    {
     "data": {
      "text/plain": [
       "74649600"
      ]
     },
     "execution_count": 38,
     "metadata": {},
     "output_type": "execute_result"
    }
   ],
   "source": [
    "chunksize = np.prod(data.chunksize) * data.dtype.itemsize\n",
    "chunksize"
   ]
  },
  {
   "cell_type": "code",
   "execution_count": 39,
   "id": "governing-spouse",
   "metadata": {},
   "outputs": [],
   "source": [
    "def total_nthreads():\n",
    "    return sum([v for v in client.nthreads().values()])\n",
    "\n",
    "def total_ncores():\n",
    "    return sum([v for v in client.ncores().values()])\n",
    "\n",
    "def total_workers():\n",
    "    return len(client.ncores())"
   ]
  },
  {
   "cell_type": "markdown",
   "id": "rocky-creation",
   "metadata": {},
   "source": [
    "### Running the tests"
   ]
  },
  {
   "cell_type": "code",
   "execution_count": 40,
   "id": "southeast-aluminum",
   "metadata": {},
   "outputs": [
    {
     "name": "stdout",
     "output_type": "stream",
     "text": [
      "1\n",
      "1\n",
      "2\n",
      "2\n",
      "4\n",
      "4\n",
      "6\n",
      "7\n",
      "8\n",
      "9\n",
      "15\n",
      "16\n"
     ]
    }
   ],
   "source": [
    "diag_kwargs = dict(nbytes=data.nbytes, chunksize=chunksize,\n",
    "                   cloud='GCS', format='zarr')\n",
    "\n",
    "# You can subset the number of workers from the list below\n",
    "#1,1,2,2,4,4,6,7,8,9,15,16,20,25,30,35,40,45,50,55,60,70\n",
    "for nworkers in [1,1,2,2,4,4,6,7,8,9,15,16]:\n",
    "    cluster.scale(nworkers)\n",
    "    time.sleep(10)\n",
    "    client.wait_for_workers(nworkers)\n",
    "    print(nworkers)\n",
    "    with diag_timer.time(nthreads=total_nthreads(),\n",
    "                         ncores=total_ncores(),\n",
    "                         nworkers=total_workers(),\n",
    "                         **diag_kwargs):\n",
    "\n",
    "        future = dsa.store(data, null_store, lock=False, compute=False)\n",
    "        dask.compute(future, retries=5)\n",
    "\n"
   ]
  },
  {
   "cell_type": "code",
   "execution_count": 41,
   "id": "middle-heater",
   "metadata": {},
   "outputs": [],
   "source": [
    "client.close()\n",
    "cluster.close()"
   ]
  },
  {
   "cell_type": "markdown",
   "id": "wooden-rebound",
   "metadata": {},
   "source": [
    "### Looking at results and saving files"
   ]
  },
  {
   "cell_type": "code",
   "execution_count": 42,
   "id": "prospective-stewart",
   "metadata": {},
   "outputs": [
    {
     "data": {
      "text/html": [
       "<div>\n",
       "<style scoped>\n",
       "    .dataframe tbody tr th:only-of-type {\n",
       "        vertical-align: middle;\n",
       "    }\n",
       "\n",
       "    .dataframe tbody tr th {\n",
       "        vertical-align: top;\n",
       "    }\n",
       "\n",
       "    .dataframe thead th {\n",
       "        text-align: right;\n",
       "    }\n",
       "</style>\n",
       "<table border=\"1\" class=\"dataframe\">\n",
       "  <thead>\n",
       "    <tr style=\"text-align: right;\">\n",
       "      <th></th>\n",
       "      <th>nthreads</th>\n",
       "      <th>ncores</th>\n",
       "      <th>nworkers</th>\n",
       "      <th>nbytes</th>\n",
       "      <th>chunksize</th>\n",
       "      <th>cloud</th>\n",
       "      <th>format</th>\n",
       "      <th>runtime</th>\n",
       "    </tr>\n",
       "  </thead>\n",
       "  <tbody>\n",
       "    <tr>\n",
       "      <th>0</th>\n",
       "      <td>2</td>\n",
       "      <td>2</td>\n",
       "      <td>1</td>\n",
       "      <td>74649600000</td>\n",
       "      <td>74649600</td>\n",
       "      <td>GCS</td>\n",
       "      <td>zarr</td>\n",
       "      <td>246.248305</td>\n",
       "    </tr>\n",
       "    <tr>\n",
       "      <th>1</th>\n",
       "      <td>2</td>\n",
       "      <td>2</td>\n",
       "      <td>1</td>\n",
       "      <td>74649600000</td>\n",
       "      <td>74649600</td>\n",
       "      <td>GCS</td>\n",
       "      <td>zarr</td>\n",
       "      <td>246.217311</td>\n",
       "    </tr>\n",
       "    <tr>\n",
       "      <th>2</th>\n",
       "      <td>4</td>\n",
       "      <td>4</td>\n",
       "      <td>2</td>\n",
       "      <td>74649600000</td>\n",
       "      <td>74649600</td>\n",
       "      <td>GCS</td>\n",
       "      <td>zarr</td>\n",
       "      <td>123.881029</td>\n",
       "    </tr>\n",
       "    <tr>\n",
       "      <th>3</th>\n",
       "      <td>4</td>\n",
       "      <td>4</td>\n",
       "      <td>2</td>\n",
       "      <td>74649600000</td>\n",
       "      <td>74649600</td>\n",
       "      <td>GCS</td>\n",
       "      <td>zarr</td>\n",
       "      <td>120.625151</td>\n",
       "    </tr>\n",
       "    <tr>\n",
       "      <th>4</th>\n",
       "      <td>8</td>\n",
       "      <td>8</td>\n",
       "      <td>4</td>\n",
       "      <td>74649600000</td>\n",
       "      <td>74649600</td>\n",
       "      <td>GCS</td>\n",
       "      <td>zarr</td>\n",
       "      <td>67.490466</td>\n",
       "    </tr>\n",
       "    <tr>\n",
       "      <th>5</th>\n",
       "      <td>8</td>\n",
       "      <td>8</td>\n",
       "      <td>4</td>\n",
       "      <td>74649600000</td>\n",
       "      <td>74649600</td>\n",
       "      <td>GCS</td>\n",
       "      <td>zarr</td>\n",
       "      <td>67.785261</td>\n",
       "    </tr>\n",
       "    <tr>\n",
       "      <th>6</th>\n",
       "      <td>12</td>\n",
       "      <td>12</td>\n",
       "      <td>6</td>\n",
       "      <td>74649600000</td>\n",
       "      <td>74649600</td>\n",
       "      <td>GCS</td>\n",
       "      <td>zarr</td>\n",
       "      <td>46.045425</td>\n",
       "    </tr>\n",
       "    <tr>\n",
       "      <th>7</th>\n",
       "      <td>14</td>\n",
       "      <td>14</td>\n",
       "      <td>7</td>\n",
       "      <td>74649600000</td>\n",
       "      <td>74649600</td>\n",
       "      <td>GCS</td>\n",
       "      <td>zarr</td>\n",
       "      <td>38.660186</td>\n",
       "    </tr>\n",
       "    <tr>\n",
       "      <th>8</th>\n",
       "      <td>16</td>\n",
       "      <td>16</td>\n",
       "      <td>8</td>\n",
       "      <td>74649600000</td>\n",
       "      <td>74649600</td>\n",
       "      <td>GCS</td>\n",
       "      <td>zarr</td>\n",
       "      <td>35.406102</td>\n",
       "    </tr>\n",
       "    <tr>\n",
       "      <th>9</th>\n",
       "      <td>18</td>\n",
       "      <td>18</td>\n",
       "      <td>9</td>\n",
       "      <td>74649600000</td>\n",
       "      <td>74649600</td>\n",
       "      <td>GCS</td>\n",
       "      <td>zarr</td>\n",
       "      <td>33.271620</td>\n",
       "    </tr>\n",
       "    <tr>\n",
       "      <th>10</th>\n",
       "      <td>30</td>\n",
       "      <td>30</td>\n",
       "      <td>15</td>\n",
       "      <td>74649600000</td>\n",
       "      <td>74649600</td>\n",
       "      <td>GCS</td>\n",
       "      <td>zarr</td>\n",
       "      <td>21.521775</td>\n",
       "    </tr>\n",
       "    <tr>\n",
       "      <th>11</th>\n",
       "      <td>32</td>\n",
       "      <td>32</td>\n",
       "      <td>16</td>\n",
       "      <td>74649600000</td>\n",
       "      <td>74649600</td>\n",
       "      <td>GCS</td>\n",
       "      <td>zarr</td>\n",
       "      <td>19.951925</td>\n",
       "    </tr>\n",
       "  </tbody>\n",
       "</table>\n",
       "</div>"
      ],
      "text/plain": [
       "    nthreads  ncores  nworkers       nbytes  chunksize cloud format  \\\n",
       "0          2       2         1  74649600000   74649600   GCS   zarr   \n",
       "1          2       2         1  74649600000   74649600   GCS   zarr   \n",
       "2          4       4         2  74649600000   74649600   GCS   zarr   \n",
       "3          4       4         2  74649600000   74649600   GCS   zarr   \n",
       "4          8       8         4  74649600000   74649600   GCS   zarr   \n",
       "5          8       8         4  74649600000   74649600   GCS   zarr   \n",
       "6         12      12         6  74649600000   74649600   GCS   zarr   \n",
       "7         14      14         7  74649600000   74649600   GCS   zarr   \n",
       "8         16      16         8  74649600000   74649600   GCS   zarr   \n",
       "9         18      18         9  74649600000   74649600   GCS   zarr   \n",
       "10        30      30        15  74649600000   74649600   GCS   zarr   \n",
       "11        32      32        16  74649600000   74649600   GCS   zarr   \n",
       "\n",
       "       runtime  \n",
       "0   246.248305  \n",
       "1   246.217311  \n",
       "2   123.881029  \n",
       "3   120.625151  \n",
       "4    67.490466  \n",
       "5    67.785261  \n",
       "6    46.045425  \n",
       "7    38.660186  \n",
       "8    35.406102  \n",
       "9    33.271620  \n",
       "10   21.521775  \n",
       "11   19.951925  "
      ]
     },
     "execution_count": 42,
     "metadata": {},
     "output_type": "execute_result"
    }
   ],
   "source": [
    "df = diag_timer.dataframe()\n",
    "df"
   ]
  },
  {
   "cell_type": "code",
   "execution_count": 43,
   "id": "vocal-crash",
   "metadata": {},
   "outputs": [
    {
     "data": {
      "text/plain": [
       "<AxesSubplot:xlabel='ncores'>"
      ]
     },
     "execution_count": 43,
     "metadata": {},
     "output_type": "execute_result"
    },
    {
     "data": {
      "image/png": "[encoded data removed]",
      "text/plain": [
       "<Figure size 432x288 with 1 Axes>"
      ]
     },
     "metadata": {
      "needs_background": "light"
     },
     "output_type": "display_data"
    }
   ],
   "source": [
    "df.plot(x='ncores', y='runtime', marker='o')"
   ]
  },
  {
   "cell_type": "code",
   "execution_count": 44,
   "id": "polish-avatar",
   "metadata": {},
   "outputs": [
    {
     "data": {
      "text/plain": [
       "<AxesSubplot:xlabel='ncores'>"
      ]
     },
     "execution_count": 44,
     "metadata": {},
     "output_type": "execute_result"
    },
    {
     "data": {
      "image/png": "[encoded data removed]",
      "text/plain": [
       "<Figure size 432x288 with 1 Axes>"
      ]
     },
     "metadata": {
      "needs_background": "light"
     },
     "output_type": "display_data"
    }
   ],
   "source": [
    "df['throughput_MBps'] = df.nbytes / 1e6 / df['runtime']\n",
    "df.plot(x='ncores', y='throughput_MBps', marker='o')"
   ]
  },
  {
   "cell_type": "code",
   "execution_count": 45,
   "id": "hollow-journal",
   "metadata": {},
   "outputs": [
    {
     "data": {
      "text/plain": [
       "<AxesSubplot:xlabel='nthreads'>"
      ]
     },
     "execution_count": 45,
     "metadata": {},
     "output_type": "execute_result"
    },
    {
     "data": {
      "image/png": "[encoded data removed]",
      "text/plain": [
       "<Figure size 432x288 with 1 Axes>"
      ]
     },
     "metadata": {
      "needs_background": "light"
     },
     "output_type": "display_data"
    }
   ],
   "source": [
    "df['throughput_MBps_per_thread'] = df.throughput_MBps / df.nthreads\n",
    "df.plot(x='nthreads', y='throughput_MBps_per_thread', marker='o')"
   ]
  },
  {
   "cell_type": "code",
   "execution_count": 46,
   "id": "australian-glance",
   "metadata": {},
   "outputs": [],
   "source": [
    "df.to_csv('gcs_zarr_test-5_us_central.csv')"
   ]
  },
  {
   "cell_type": "code",
   "execution_count": 47,
   "id": "biblical-resolution",
   "metadata": {},
   "outputs": [
    {
     "data": {
      "text/html": [
       "<div>\n",
       "<style scoped>\n",
       "    .dataframe tbody tr th:only-of-type {\n",
       "        vertical-align: middle;\n",
       "    }\n",
       "\n",
       "    .dataframe tbody tr th {\n",
       "        vertical-align: top;\n",
       "    }\n",
       "\n",
       "    .dataframe thead th {\n",
       "        text-align: right;\n",
       "    }\n",
       "</style>\n",
       "<table border=\"1\" class=\"dataframe\">\n",
       "  <thead>\n",
       "    <tr style=\"text-align: right;\">\n",
       "      <th></th>\n",
       "      <th>nthreads</th>\n",
       "      <th>ncores</th>\n",
       "      <th>nworkers</th>\n",
       "      <th>nbytes</th>\n",
       "      <th>chunksize</th>\n",
       "      <th>cloud</th>\n",
       "      <th>format</th>\n",
       "      <th>runtime</th>\n",
       "      <th>throughput_MBps</th>\n",
       "      <th>throughput_MBps_per_thread</th>\n",
       "    </tr>\n",
       "  </thead>\n",
       "  <tbody>\n",
       "    <tr>\n",
       "      <th>0</th>\n",
       "      <td>2</td>\n",
       "      <td>2</td>\n",
       "      <td>1</td>\n",
       "      <td>74649600000</td>\n",
       "      <td>74649600</td>\n",
       "      <td>GCS</td>\n",
       "      <td>zarr</td>\n",
       "      <td>246.248305</td>\n",
       "      <td>303.147671</td>\n",
       "      <td>151.573835</td>\n",
       "    </tr>\n",
       "    <tr>\n",
       "      <th>1</th>\n",
       "      <td>2</td>\n",
       "      <td>2</td>\n",
       "      <td>1</td>\n",
       "      <td>74649600000</td>\n",
       "      <td>74649600</td>\n",
       "      <td>GCS</td>\n",
       "      <td>zarr</td>\n",
       "      <td>246.217311</td>\n",
       "      <td>303.185831</td>\n",
       "      <td>151.592915</td>\n",
       "    </tr>\n",
       "    <tr>\n",
       "      <th>2</th>\n",
       "      <td>4</td>\n",
       "      <td>4</td>\n",
       "      <td>2</td>\n",
       "      <td>74649600000</td>\n",
       "      <td>74649600</td>\n",
       "      <td>GCS</td>\n",
       "      <td>zarr</td>\n",
       "      <td>123.881029</td>\n",
       "      <td>602.591056</td>\n",
       "      <td>150.647764</td>\n",
       "    </tr>\n",
       "    <tr>\n",
       "      <th>3</th>\n",
       "      <td>4</td>\n",
       "      <td>4</td>\n",
       "      <td>2</td>\n",
       "      <td>74649600000</td>\n",
       "      <td>74649600</td>\n",
       "      <td>GCS</td>\n",
       "      <td>zarr</td>\n",
       "      <td>120.625151</td>\n",
       "      <td>618.856015</td>\n",
       "      <td>154.714004</td>\n",
       "    </tr>\n",
       "    <tr>\n",
       "      <th>4</th>\n",
       "      <td>8</td>\n",
       "      <td>8</td>\n",
       "      <td>4</td>\n",
       "      <td>74649600000</td>\n",
       "      <td>74649600</td>\n",
       "      <td>GCS</td>\n",
       "      <td>zarr</td>\n",
       "      <td>67.490466</td>\n",
       "      <td>1106.076225</td>\n",
       "      <td>138.259528</td>\n",
       "    </tr>\n",
       "    <tr>\n",
       "      <th>5</th>\n",
       "      <td>8</td>\n",
       "      <td>8</td>\n",
       "      <td>4</td>\n",
       "      <td>74649600000</td>\n",
       "      <td>74649600</td>\n",
       "      <td>GCS</td>\n",
       "      <td>zarr</td>\n",
       "      <td>67.785261</td>\n",
       "      <td>1101.265954</td>\n",
       "      <td>137.658244</td>\n",
       "    </tr>\n",
       "    <tr>\n",
       "      <th>6</th>\n",
       "      <td>12</td>\n",
       "      <td>12</td>\n",
       "      <td>6</td>\n",
       "      <td>74649600000</td>\n",
       "      <td>74649600</td>\n",
       "      <td>GCS</td>\n",
       "      <td>zarr</td>\n",
       "      <td>46.045425</td>\n",
       "      <td>1621.216425</td>\n",
       "      <td>135.101369</td>\n",
       "    </tr>\n",
       "    <tr>\n",
       "      <th>7</th>\n",
       "      <td>14</td>\n",
       "      <td>14</td>\n",
       "      <td>7</td>\n",
       "      <td>74649600000</td>\n",
       "      <td>74649600</td>\n",
       "      <td>GCS</td>\n",
       "      <td>zarr</td>\n",
       "      <td>38.660186</td>\n",
       "      <td>1930.916753</td>\n",
       "      <td>137.922625</td>\n",
       "    </tr>\n",
       "    <tr>\n",
       "      <th>8</th>\n",
       "      <td>16</td>\n",
       "      <td>16</td>\n",
       "      <td>8</td>\n",
       "      <td>74649600000</td>\n",
       "      <td>74649600</td>\n",
       "      <td>GCS</td>\n",
       "      <td>zarr</td>\n",
       "      <td>35.406102</td>\n",
       "      <td>2108.382338</td>\n",
       "      <td>131.773896</td>\n",
       "    </tr>\n",
       "    <tr>\n",
       "      <th>9</th>\n",
       "      <td>18</td>\n",
       "      <td>18</td>\n",
       "      <td>9</td>\n",
       "      <td>74649600000</td>\n",
       "      <td>74649600</td>\n",
       "      <td>GCS</td>\n",
       "      <td>zarr</td>\n",
       "      <td>33.271620</td>\n",
       "      <td>2243.641892</td>\n",
       "      <td>124.646772</td>\n",
       "    </tr>\n",
       "    <tr>\n",
       "      <th>10</th>\n",
       "      <td>30</td>\n",
       "      <td>30</td>\n",
       "      <td>15</td>\n",
       "      <td>74649600000</td>\n",
       "      <td>74649600</td>\n",
       "      <td>GCS</td>\n",
       "      <td>zarr</td>\n",
       "      <td>21.521775</td>\n",
       "      <td>3468.561452</td>\n",
       "      <td>115.618715</td>\n",
       "    </tr>\n",
       "    <tr>\n",
       "      <th>11</th>\n",
       "      <td>32</td>\n",
       "      <td>32</td>\n",
       "      <td>16</td>\n",
       "      <td>74649600000</td>\n",
       "      <td>74649600</td>\n",
       "      <td>GCS</td>\n",
       "      <td>zarr</td>\n",
       "      <td>19.951925</td>\n",
       "      <td>3741.473604</td>\n",
       "      <td>116.921050</td>\n",
       "    </tr>\n",
       "  </tbody>\n",
       "</table>\n",
       "</div>"
      ],
      "text/plain": [
       "    nthreads  ncores  nworkers       nbytes  chunksize cloud format  \\\n",
       "0          2       2         1  74649600000   74649600   GCS   zarr   \n",
       "1          2       2         1  74649600000   74649600   GCS   zarr   \n",
       "2          4       4         2  74649600000   74649600   GCS   zarr   \n",
       "3          4       4         2  74649600000   74649600   GCS   zarr   \n",
       "4          8       8         4  74649600000   74649600   GCS   zarr   \n",
       "5          8       8         4  74649600000   74649600   GCS   zarr   \n",
       "6         12      12         6  74649600000   74649600   GCS   zarr   \n",
       "7         14      14         7  74649600000   74649600   GCS   zarr   \n",
       "8         16      16         8  74649600000   74649600   GCS   zarr   \n",
       "9         18      18         9  74649600000   74649600   GCS   zarr   \n",
       "10        30      30        15  74649600000   74649600   GCS   zarr   \n",
       "11        32      32        16  74649600000   74649600   GCS   zarr   \n",
       "\n",
       "       runtime  throughput_MBps  throughput_MBps_per_thread  \n",
       "0   246.248305       303.147671                  151.573835  \n",
       "1   246.217311       303.185831                  151.592915  \n",
       "2   123.881029       602.591056                  150.647764  \n",
       "3   120.625151       618.856015                  154.714004  \n",
       "4    67.490466      1106.076225                  138.259528  \n",
       "5    67.785261      1101.265954                  137.658244  \n",
       "6    46.045425      1621.216425                  135.101369  \n",
       "7    38.660186      1930.916753                  137.922625  \n",
       "8    35.406102      2108.382338                  131.773896  \n",
       "9    33.271620      2243.641892                  124.646772  \n",
       "10   21.521775      3468.561452                  115.618715  \n",
       "11   19.951925      3741.473604                  116.921050  "
      ]
     },
     "execution_count": 47,
     "metadata": {},
     "output_type": "execute_result"
    }
   ],
   "source": [
    "df"
   ]
  },
  {
   "cell_type": "code",
   "execution_count": null,
   "id": "necessary-conversion",
   "metadata": {},
   "outputs": [],
   "source": []
  }
 ],
 "metadata": {
  "kernelspec": {
   "display_name": "Python 3",
   "language": "python",
   "name": "python3"
  },
  "language_info": {
   "codemirror_mode": {
    "name": "ipython",
    "version": 3
   },
   "file_extension": ".py",
   "mimetype": "text/x-python",
   "name": "python",
   "nbconvert_exporter": "python",
   "pygments_lexer": "ipython3",
   "version": "3.8.6"
  }
 },
 "nbformat": 4,
 "nbformat_minor": 5
}
