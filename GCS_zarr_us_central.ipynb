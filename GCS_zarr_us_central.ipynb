{
 "cells": [
  {
   "cell_type": "markdown",
   "id": "separated-strand",
   "metadata": {},
   "source": [
    "### Google Cloud Storage in Zarr format : Benchmark"
   ]
  },
  {
   "cell_type": "code",
   "execution_count": 1,
   "id": "interior-bible",
   "metadata": {},
   "outputs": [],
   "source": [
    "import numpy as np\n",
    "from contextlib import contextmanager\n",
    "import intake\n",
    "import time\n",
    "#import seaborn as sns\n",
    "from matplotlib import pyplot as plt"
   ]
  },
  {
   "cell_type": "code",
   "execution_count": 2,
   "id": "metric-feedback",
   "metadata": {},
   "outputs": [],
   "source": [
    "import s3fs\n",
    "import xarray as xr\n",
    "import dask\n",
    "import fsspec\n",
    "import zarr\n",
    "import dask.array as dsa\n",
    "import pandas as pd\n",
    "\n",
    "endpoint_url = \"https://mghp.osn.xsede.org\"\n",
    "bucket = 'cnh-bucket-1'\n"
   ]
  },
  {
   "cell_type": "code",
   "execution_count": 3,
   "id": "absent-sudan",
   "metadata": {},
   "outputs": [
    {
     "data": {
      "text/plain": [
       "[{'Key': 'cnh-bucket-1/DYAMOND',\n",
       "  'Size': 0,\n",
       "  'StorageClass': 'DIRECTORY',\n",
       "  'type': 'directory',\n",
       "  'size': 0,\n",
       "  'name': 'cnh-bucket-1/DYAMOND'},\n",
       " {'Key': 'cnh-bucket-1/llc4320_grid',\n",
       "  'Size': 0,\n",
       "  'StorageClass': 'DIRECTORY',\n",
       "  'type': 'directory',\n",
       "  'size': 0,\n",
       "  'name': 'cnh-bucket-1/llc4320_grid'},\n",
       " {'Key': 'cnh-bucket-1/llc4320_tests',\n",
       "  'Size': 0,\n",
       "  'StorageClass': 'DIRECTORY',\n",
       "  'type': 'directory',\n",
       "  'size': 0,\n",
       "  'name': 'cnh-bucket-1/llc4320_tests'},\n",
       " {'Key': 'cnh-bucket-1/llc4320_zarr',\n",
       "  'Size': 0,\n",
       "  'StorageClass': 'DIRECTORY',\n",
       "  'type': 'directory',\n",
       "  'size': 0,\n",
       "  'name': 'cnh-bucket-1/llc4320_zarr'},\n",
       " {'Key': 'cnh-bucket-1/llc_masks',\n",
       "  'Size': 0,\n",
       "  'StorageClass': 'DIRECTORY',\n",
       "  'type': 'directory',\n",
       "  'size': 0,\n",
       "  'name': 'cnh-bucket-1/llc_masks'}]"
      ]
     },
     "execution_count": 3,
     "metadata": {},
     "output_type": "execute_result"
    }
   ],
   "source": [
    "fs = s3fs.S3FileSystem(anon=True,\n",
    "                       client_kwargs={'endpoint_url': endpoint_url})\n",
    "listing = fs.listdir(bucket)\n",
    "listing"
   ]
  },
  {
   "cell_type": "code",
   "execution_count": 4,
   "id": "incredible-helen",
   "metadata": {},
   "outputs": [
    {
     "data": {
      "text/plain": [
       "4820"
      ]
     },
     "execution_count": 4,
     "metadata": {},
     "output_type": "execute_result"
    }
   ],
   "source": [
    "path = 'cnh-bucket-1/llc4320_tests/10dayhourly'\n",
    "listing = fs.listdir(path)\n",
    "len(listing)"
   ]
  },
  {
   "cell_type": "code",
   "execution_count": 5,
   "id": "prostate-responsibility",
   "metadata": {},
   "outputs": [
    {
     "data": {
      "text/plain": [
       "{'Key': 'cnh-bucket-1/llc4320_tests/10dayhourly/Eta.0000787968.data.shrunk',\n",
       " 'LastModified': datetime.datetime(2021, 2, 21, 17, 42, 18, 455000, tzinfo=tzlocal()),\n",
       " 'ETag': '\"adf92d9b6f0541212177052e2cd56974-108\"',\n",
       " 'Size': 562551864,\n",
       " 'StorageClass': 'STANDARD',\n",
       " 'type': 'file',\n",
       " 'size': 562551864,\n",
       " 'name': 'cnh-bucket-1/llc4320_tests/10dayhourly/Eta.0000787968.data.shrunk'}"
      ]
     },
     "execution_count": 5,
     "metadata": {},
     "output_type": "execute_result"
    }
   ],
   "source": [
    "listing[0]"
   ]
  },
  {
   "cell_type": "code",
   "execution_count": 6,
   "id": "appropriate-colors",
   "metadata": {},
   "outputs": [
    {
     "name": "stdout",
     "output_type": "stream",
     "text": [
      "Compressed size: 562.551864 MB\n"
     ]
    }
   ],
   "source": [
    "nbytes_compressed = listing[0]['Size']\n",
    "print(f'Compressed size: {nbytes_compressed/1e6} MB')"
   ]
  },
  {
   "cell_type": "code",
   "execution_count": 7,
   "id": "extra-divorce",
   "metadata": {},
   "outputs": [],
   "source": [
    "gcs_url = 'pangeo-ecco-llc4320/ssh'\n",
    "fs_gcs = fsspec.get_filesystem_class('gs')(requester_pays=True)\n",
    "gcs_mapper = fs_gcs.get_mapper(gcs_url)"
   ]
  },
  {
   "cell_type": "code",
   "execution_count": 8,
   "id": "worth-petersburg",
   "metadata": {},
   "outputs": [
    {
     "name": "stdout",
     "output_type": "stream",
     "text": [
      "Name             : /\n",
      "Type             : zarr.hierarchy.Group\n",
      "Read-only        : False\n",
      "Store type       : zarr.storage.ConsolidatedMetadataStore\n",
      "Chunk store type : fsspec.mapping.FSMap\n",
      "No. members      : 5\n",
      "No. arrays       : 5\n",
      "No. groups       : 0\n",
      "Arrays           : Eta, face, i, j, time\n",
      "\n"
     ]
    }
   ],
   "source": [
    "zgroup = zarr.open_consolidated(gcs_mapper)\n",
    "print(zgroup.info)"
   ]
  },
  {
   "cell_type": "code",
   "execution_count": 9,
   "id": "actual-forty",
   "metadata": {},
   "outputs": [],
   "source": [
    "array = zgroup['Eta']"
   ]
  },
  {
   "cell_type": "code",
   "execution_count": 10,
   "id": "featured-offset",
   "metadata": {},
   "outputs": [
    {
     "name": "stdout",
     "output_type": "stream",
     "text": [
      "CPU times: user 833 ms, sys: 364 ms, total: 1.2 s\n",
      "Wall time: 1.1 s\n"
     ]
    }
   ],
   "source": [
    "%time _ = array[0, :3]"
   ]
  },
  {
   "cell_type": "code",
   "execution_count": 11,
   "id": "earned-texas",
   "metadata": {},
   "outputs": [
    {
     "name": "stdout",
     "output_type": "stream",
     "text": [
      "CPU times: user 3.64 s, sys: 1.68 s, total: 5.33 s\n",
      "Wall time: 3.56 s\n"
     ]
    }
   ],
   "source": [
    "%time _ = array[0]"
   ]
  },
  {
   "cell_type": "code",
   "execution_count": 12,
   "id": "strong-latvia",
   "metadata": {},
   "outputs": [
    {
     "data": {
      "text/html": [
       "<table>\n",
       "<tr>\n",
       "<td>\n",
       "<table>\n",
       "  <thead>\n",
       "    <tr><td> </td><th> Array </th><th> Chunk </th></tr>\n",
       "  </thead>\n",
       "  <tbody>\n",
       "    <tr><th> Bytes </th><td> 8.76 TB </td> <td> 74.65 MB </td></tr>\n",
       "    <tr><th> Shape </th><td> (9030, 13, 4320, 4320) </td> <td> (1, 1, 4320, 4320) </td></tr>\n",
       "    <tr><th> Count </th><td> 117391 Tasks </td><td> 117390 Chunks </td></tr>\n",
       "    <tr><th> Type </th><td> >f4 </td><td> numpy.ndarray </td></tr>\n",
       "  </tbody>\n",
       "</table>\n",
       "</td>\n",
       "<td>\n",
       "<svg width=\"502\" height=\"122\" style=\"stroke:rgb(0,0,0);stroke-width:1\" >\n",
       "\n",
       "  <!-- Horizontal lines -->\n",
       "  <line x1=\"0\" y1=\"0\" x2=\"120\" y2=\"0\" style=\"stroke-width:2\" />\n",
       "  <line x1=\"0\" y1=\"25\" x2=\"120\" y2=\"25\" style=\"stroke-width:2\" />\n",
       "\n",
       "  <!-- Vertical lines -->\n",
       "  <line x1=\"0\" y1=\"0\" x2=\"0\" y2=\"25\" style=\"stroke-width:2\" />\n",
       "  <line x1=\"3\" y1=\"0\" x2=\"3\" y2=\"25\" />\n",
       "  <line x1=\"7\" y1=\"0\" x2=\"7\" y2=\"25\" />\n",
       "  <line x1=\"11\" y1=\"0\" x2=\"11\" y2=\"25\" />\n",
       "  <line x1=\"14\" y1=\"0\" x2=\"14\" y2=\"25\" />\n",
       "  <line x1=\"18\" y1=\"0\" x2=\"18\" y2=\"25\" />\n",
       "  <line x1=\"22\" y1=\"0\" x2=\"22\" y2=\"25\" />\n",
       "  <line x1=\"26\" y1=\"0\" x2=\"26\" y2=\"25\" />\n",
       "  <line x1=\"29\" y1=\"0\" x2=\"29\" y2=\"25\" />\n",
       "  <line x1=\"33\" y1=\"0\" x2=\"33\" y2=\"25\" />\n",
       "  <line x1=\"37\" y1=\"0\" x2=\"37\" y2=\"25\" />\n",
       "  <line x1=\"41\" y1=\"0\" x2=\"41\" y2=\"25\" />\n",
       "  <line x1=\"44\" y1=\"0\" x2=\"44\" y2=\"25\" />\n",
       "  <line x1=\"48\" y1=\"0\" x2=\"48\" y2=\"25\" />\n",
       "  <line x1=\"52\" y1=\"0\" x2=\"52\" y2=\"25\" />\n",
       "  <line x1=\"56\" y1=\"0\" x2=\"56\" y2=\"25\" />\n",
       "  <line x1=\"60\" y1=\"0\" x2=\"60\" y2=\"25\" />\n",
       "  <line x1=\"63\" y1=\"0\" x2=\"63\" y2=\"25\" />\n",
       "  <line x1=\"67\" y1=\"0\" x2=\"67\" y2=\"25\" />\n",
       "  <line x1=\"71\" y1=\"0\" x2=\"71\" y2=\"25\" />\n",
       "  <line x1=\"74\" y1=\"0\" x2=\"74\" y2=\"25\" />\n",
       "  <line x1=\"78\" y1=\"0\" x2=\"78\" y2=\"25\" />\n",
       "  <line x1=\"82\" y1=\"0\" x2=\"82\" y2=\"25\" />\n",
       "  <line x1=\"86\" y1=\"0\" x2=\"86\" y2=\"25\" />\n",
       "  <line x1=\"89\" y1=\"0\" x2=\"89\" y2=\"25\" />\n",
       "  <line x1=\"93\" y1=\"0\" x2=\"93\" y2=\"25\" />\n",
       "  <line x1=\"97\" y1=\"0\" x2=\"97\" y2=\"25\" />\n",
       "  <line x1=\"101\" y1=\"0\" x2=\"101\" y2=\"25\" />\n",
       "  <line x1=\"104\" y1=\"0\" x2=\"104\" y2=\"25\" />\n",
       "  <line x1=\"108\" y1=\"0\" x2=\"108\" y2=\"25\" />\n",
       "  <line x1=\"112\" y1=\"0\" x2=\"112\" y2=\"25\" />\n",
       "  <line x1=\"116\" y1=\"0\" x2=\"116\" y2=\"25\" />\n",
       "  <line x1=\"120\" y1=\"0\" x2=\"120\" y2=\"25\" style=\"stroke-width:2\" />\n",
       "\n",
       "  <!-- Colored Rectangle -->\n",
       "  <polygon points=\"0.0,0.0 120.0,0.0 120.0,25.412616514582485 0.0,25.412616514582485\" style=\"fill:#8B4903A0;stroke-width:0\"/>\n",
       "\n",
       "  <!-- Text -->\n",
       "  <text x=\"60.000000\" y=\"45.412617\" font-size=\"1.0rem\" font-weight=\"100\" text-anchor=\"middle\" >9030</text>\n",
       "  <text x=\"140.000000\" y=\"12.706308\" font-size=\"1.0rem\" font-weight=\"100\" text-anchor=\"middle\" transform=\"rotate(0,140.000000,12.706308)\">1</text>\n",
       "\n",
       "\n",
       "  <!-- Horizontal lines -->\n",
       "  <line x1=\"190\" y1=\"0\" x2=\"204\" y2=\"14\" style=\"stroke-width:2\" />\n",
       "  <line x1=\"190\" y1=\"57\" x2=\"204\" y2=\"72\" style=\"stroke-width:2\" />\n",
       "\n",
       "  <!-- Vertical lines -->\n",
       "  <line x1=\"190\" y1=\"0\" x2=\"190\" y2=\"57\" style=\"stroke-width:2\" />\n",
       "  <line x1=\"191\" y1=\"1\" x2=\"191\" y2=\"58\" />\n",
       "  <line x1=\"192\" y1=\"2\" x2=\"192\" y2=\"59\" />\n",
       "  <line x1=\"193\" y1=\"3\" x2=\"193\" y2=\"60\" />\n",
       "  <line x1=\"194\" y1=\"4\" x2=\"194\" y2=\"62\" />\n",
       "  <line x1=\"195\" y1=\"5\" x2=\"195\" y2=\"63\" />\n",
       "  <line x1=\"196\" y1=\"6\" x2=\"196\" y2=\"64\" />\n",
       "  <line x1=\"198\" y1=\"8\" x2=\"198\" y2=\"65\" />\n",
       "  <line x1=\"199\" y1=\"9\" x2=\"199\" y2=\"66\" />\n",
       "  <line x1=\"200\" y1=\"10\" x2=\"200\" y2=\"67\" />\n",
       "  <line x1=\"201\" y1=\"11\" x2=\"201\" y2=\"68\" />\n",
       "  <line x1=\"202\" y1=\"12\" x2=\"202\" y2=\"70\" />\n",
       "  <line x1=\"203\" y1=\"13\" x2=\"203\" y2=\"71\" />\n",
       "  <line x1=\"204\" y1=\"14\" x2=\"204\" y2=\"72\" style=\"stroke-width:2\" />\n",
       "\n",
       "  <!-- Colored Rectangle -->\n",
       "  <polygon points=\"190.0,0.0 204.9485979497544,14.948597949754403 204.9485979497544,72.35723582350856 190.0,57.40863787375415\" style=\"fill:#ECB172A0;stroke-width:0\"/>\n",
       "\n",
       "  <!-- Horizontal lines -->\n",
       "  <line x1=\"190\" y1=\"0\" x2=\"247\" y2=\"0\" style=\"stroke-width:2\" />\n",
       "  <line x1=\"191\" y1=\"1\" x2=\"248\" y2=\"1\" />\n",
       "  <line x1=\"192\" y1=\"2\" x2=\"249\" y2=\"2\" />\n",
       "  <line x1=\"193\" y1=\"3\" x2=\"250\" y2=\"3\" />\n",
       "  <line x1=\"194\" y1=\"4\" x2=\"252\" y2=\"4\" />\n",
       "  <line x1=\"195\" y1=\"5\" x2=\"253\" y2=\"5\" />\n",
       "  <line x1=\"196\" y1=\"6\" x2=\"254\" y2=\"6\" />\n",
       "  <line x1=\"198\" y1=\"8\" x2=\"255\" y2=\"8\" />\n",
       "  <line x1=\"199\" y1=\"9\" x2=\"256\" y2=\"9\" />\n",
       "  <line x1=\"200\" y1=\"10\" x2=\"257\" y2=\"10\" />\n",
       "  <line x1=\"201\" y1=\"11\" x2=\"258\" y2=\"11\" />\n",
       "  <line x1=\"202\" y1=\"12\" x2=\"260\" y2=\"12\" />\n",
       "  <line x1=\"203\" y1=\"13\" x2=\"261\" y2=\"13\" />\n",
       "  <line x1=\"204\" y1=\"14\" x2=\"262\" y2=\"14\" style=\"stroke-width:2\" />\n",
       "\n",
       "  <!-- Vertical lines -->\n",
       "  <line x1=\"190\" y1=\"0\" x2=\"204\" y2=\"14\" style=\"stroke-width:2\" />\n",
       "  <line x1=\"247\" y1=\"0\" x2=\"262\" y2=\"14\" style=\"stroke-width:2\" />\n",
       "\n",
       "  <!-- Colored Rectangle -->\n",
       "  <polygon points=\"190.0,0.0 247.40863787375415,0.0 262.3572358235086,14.948597949754403 204.9485979497544,14.948597949754403\" style=\"fill:#ECB172A0;stroke-width:0\"/>\n",
       "\n",
       "  <!-- Horizontal lines -->\n",
       "  <line x1=\"204\" y1=\"14\" x2=\"262\" y2=\"14\" style=\"stroke-width:2\" />\n",
       "  <line x1=\"204\" y1=\"72\" x2=\"262\" y2=\"72\" style=\"stroke-width:2\" />\n",
       "\n",
       "  <!-- Vertical lines -->\n",
       "  <line x1=\"204\" y1=\"14\" x2=\"204\" y2=\"72\" style=\"stroke-width:2\" />\n",
       "  <line x1=\"262\" y1=\"14\" x2=\"262\" y2=\"72\" style=\"stroke-width:2\" />\n",
       "\n",
       "  <!-- Colored Rectangle -->\n",
       "  <polygon points=\"204.9485979497544,14.948597949754403 262.3572358235086,14.948597949754403 262.3572358235086,72.35723582350856 204.9485979497544,72.35723582350856\" style=\"fill:#ECB172A0;stroke-width:0\"/>\n",
       "\n",
       "  <!-- Text -->\n",
       "  <text x=\"233.652917\" y=\"92.357236\" font-size=\"1.0rem\" font-weight=\"100\" text-anchor=\"middle\" >4320</text>\n",
       "  <text x=\"282.357236\" y=\"43.652917\" font-size=\"1.0rem\" font-weight=\"100\" text-anchor=\"middle\" transform=\"rotate(-90,282.357236,43.652917)\">4320</text>\n",
       "  <text x=\"187.474299\" y=\"84.882937\" font-size=\"1.0rem\" font-weight=\"100\" text-anchor=\"middle\" transform=\"rotate(45,187.474299,84.882937)\">13</text>\n",
       "</svg>\n",
       "</td>\n",
       "</tr>\n",
       "</table>"
      ],
      "text/plain": [
       "dask.array<from-zarr, shape=(9030, 13, 4320, 4320), dtype=>f4, chunksize=(1, 1, 4320, 4320), chunktype=numpy.ndarray>"
      ]
     },
     "execution_count": 12,
     "metadata": {},
     "output_type": "execute_result"
    }
   ],
   "source": [
    "array_dask = dask.array.from_zarr(array)\n",
    "array_dask"
   ]
  },
  {
   "cell_type": "code",
   "execution_count": 13,
   "id": "contrary-premiere",
   "metadata": {},
   "outputs": [
    {
     "name": "stdout",
     "output_type": "stream",
     "text": [
      "CPU times: user 3.36 s, sys: 1.65 s, total: 5.01 s\n",
      "Wall time: 2.99 s\n"
     ]
    }
   ],
   "source": [
    "%time _ = array_dask[0].compute()"
   ]
  },
  {
   "cell_type": "code",
   "execution_count": 14,
   "id": "earlier-fortune",
   "metadata": {},
   "outputs": [
    {
     "data": {
      "text/html": [
       "<table>\n",
       "<tr>\n",
       "<td>\n",
       "<table>\n",
       "  <thead>\n",
       "    <tr><td> </td><th> Array </th><th> Chunk </th></tr>\n",
       "  </thead>\n",
       "  <tbody>\n",
       "    <tr><th> Bytes </th><td> 970.44 MB </td> <td> 74.65 MB </td></tr>\n",
       "    <tr><th> Shape </th><td> (13, 4320, 4320) </td> <td> (1, 4320, 4320) </td></tr>\n",
       "    <tr><th> Count </th><td> 117404 Tasks </td><td> 13 Chunks </td></tr>\n",
       "    <tr><th> Type </th><td> >f4 </td><td> numpy.ndarray </td></tr>\n",
       "  </tbody>\n",
       "</table>\n",
       "</td>\n",
       "<td>\n",
       "<svg width=\"194\" height=\"184\" style=\"stroke:rgb(0,0,0);stroke-width:1\" >\n",
       "\n",
       "  <!-- Horizontal lines -->\n",
       "  <line x1=\"10\" y1=\"0\" x2=\"24\" y2=\"14\" style=\"stroke-width:2\" />\n",
       "  <line x1=\"10\" y1=\"120\" x2=\"24\" y2=\"134\" style=\"stroke-width:2\" />\n",
       "\n",
       "  <!-- Vertical lines -->\n",
       "  <line x1=\"10\" y1=\"0\" x2=\"10\" y2=\"120\" style=\"stroke-width:2\" />\n",
       "  <line x1=\"11\" y1=\"1\" x2=\"11\" y2=\"121\" />\n",
       "  <line x1=\"12\" y1=\"2\" x2=\"12\" y2=\"122\" />\n",
       "  <line x1=\"13\" y1=\"3\" x2=\"13\" y2=\"123\" />\n",
       "  <line x1=\"14\" y1=\"4\" x2=\"14\" y2=\"124\" />\n",
       "  <line x1=\"15\" y1=\"5\" x2=\"15\" y2=\"125\" />\n",
       "  <line x1=\"16\" y1=\"6\" x2=\"16\" y2=\"126\" />\n",
       "  <line x1=\"18\" y1=\"8\" x2=\"18\" y2=\"128\" />\n",
       "  <line x1=\"19\" y1=\"9\" x2=\"19\" y2=\"129\" />\n",
       "  <line x1=\"20\" y1=\"10\" x2=\"20\" y2=\"130\" />\n",
       "  <line x1=\"21\" y1=\"11\" x2=\"21\" y2=\"131\" />\n",
       "  <line x1=\"22\" y1=\"12\" x2=\"22\" y2=\"132\" />\n",
       "  <line x1=\"23\" y1=\"13\" x2=\"23\" y2=\"133\" />\n",
       "  <line x1=\"24\" y1=\"14\" x2=\"24\" y2=\"134\" style=\"stroke-width:2\" />\n",
       "\n",
       "  <!-- Colored Rectangle -->\n",
       "  <polygon points=\"10.0,0.0 24.9485979497544,14.948597949754403 24.9485979497544,134.9485979497544 10.0,120.0\" style=\"fill:#ECB172A0;stroke-width:0\"/>\n",
       "\n",
       "  <!-- Horizontal lines -->\n",
       "  <line x1=\"10\" y1=\"0\" x2=\"130\" y2=\"0\" style=\"stroke-width:2\" />\n",
       "  <line x1=\"11\" y1=\"1\" x2=\"131\" y2=\"1\" />\n",
       "  <line x1=\"12\" y1=\"2\" x2=\"132\" y2=\"2\" />\n",
       "  <line x1=\"13\" y1=\"3\" x2=\"133\" y2=\"3\" />\n",
       "  <line x1=\"14\" y1=\"4\" x2=\"134\" y2=\"4\" />\n",
       "  <line x1=\"15\" y1=\"5\" x2=\"135\" y2=\"5\" />\n",
       "  <line x1=\"16\" y1=\"6\" x2=\"136\" y2=\"6\" />\n",
       "  <line x1=\"18\" y1=\"8\" x2=\"138\" y2=\"8\" />\n",
       "  <line x1=\"19\" y1=\"9\" x2=\"139\" y2=\"9\" />\n",
       "  <line x1=\"20\" y1=\"10\" x2=\"140\" y2=\"10\" />\n",
       "  <line x1=\"21\" y1=\"11\" x2=\"141\" y2=\"11\" />\n",
       "  <line x1=\"22\" y1=\"12\" x2=\"142\" y2=\"12\" />\n",
       "  <line x1=\"23\" y1=\"13\" x2=\"143\" y2=\"13\" />\n",
       "  <line x1=\"24\" y1=\"14\" x2=\"144\" y2=\"14\" style=\"stroke-width:2\" />\n",
       "\n",
       "  <!-- Vertical lines -->\n",
       "  <line x1=\"10\" y1=\"0\" x2=\"24\" y2=\"14\" style=\"stroke-width:2\" />\n",
       "  <line x1=\"130\" y1=\"0\" x2=\"144\" y2=\"14\" style=\"stroke-width:2\" />\n",
       "\n",
       "  <!-- Colored Rectangle -->\n",
       "  <polygon points=\"10.0,0.0 130.0,0.0 144.9485979497544,14.948597949754403 24.9485979497544,14.948597949754403\" style=\"fill:#ECB172A0;stroke-width:0\"/>\n",
       "\n",
       "  <!-- Horizontal lines -->\n",
       "  <line x1=\"24\" y1=\"14\" x2=\"144\" y2=\"14\" style=\"stroke-width:2\" />\n",
       "  <line x1=\"24\" y1=\"134\" x2=\"144\" y2=\"134\" style=\"stroke-width:2\" />\n",
       "\n",
       "  <!-- Vertical lines -->\n",
       "  <line x1=\"24\" y1=\"14\" x2=\"24\" y2=\"134\" style=\"stroke-width:2\" />\n",
       "  <line x1=\"144\" y1=\"14\" x2=\"144\" y2=\"134\" style=\"stroke-width:2\" />\n",
       "\n",
       "  <!-- Colored Rectangle -->\n",
       "  <polygon points=\"24.9485979497544,14.948597949754403 144.9485979497544,14.948597949754403 144.9485979497544,134.9485979497544 24.9485979497544,134.9485979497544\" style=\"fill:#ECB172A0;stroke-width:0\"/>\n",
       "\n",
       "  <!-- Text -->\n",
       "  <text x=\"84.948598\" y=\"154.948598\" font-size=\"1.0rem\" font-weight=\"100\" text-anchor=\"middle\" >4320</text>\n",
       "  <text x=\"164.948598\" y=\"74.948598\" font-size=\"1.0rem\" font-weight=\"100\" text-anchor=\"middle\" transform=\"rotate(-90,164.948598,74.948598)\">4320</text>\n",
       "  <text x=\"7.474299\" y=\"147.474299\" font-size=\"1.0rem\" font-weight=\"100\" text-anchor=\"middle\" transform=\"rotate(45,7.474299,147.474299)\">13</text>\n",
       "</svg>\n",
       "</td>\n",
       "</tr>\n",
       "</table>"
      ],
      "text/plain": [
       "dask.array<getitem, shape=(13, 4320, 4320), dtype=>f4, chunksize=(1, 4320, 4320), chunktype=numpy.ndarray>"
      ]
     },
     "execution_count": 14,
     "metadata": {},
     "output_type": "execute_result"
    }
   ],
   "source": [
    "data = array_dask[0]\n",
    "data"
   ]
  },
  {
   "cell_type": "markdown",
   "id": "empty-feature",
   "metadata": {},
   "source": [
    "### Setting up Benchmarking"
   ]
  },
  {
   "cell_type": "code",
   "execution_count": 15,
   "id": "confused-anaheim",
   "metadata": {},
   "outputs": [],
   "source": [
    "class DevNullStore:\n",
    "\n",
    "    def __init__(self):\n",
    "        pass\n",
    "\n",
    "    def __setitem__(*args, **kwargs):\n",
    "        pass"
   ]
  },
  {
   "cell_type": "code",
   "execution_count": 16,
   "id": "quick-renaissance",
   "metadata": {},
   "outputs": [],
   "source": [
    "null_store = DevNullStore()\n",
    "# this line produces no error but actually does nothing\n",
    "null_store['foo'] = 'bar'"
   ]
  },
  {
   "cell_type": "code",
   "execution_count": 17,
   "id": "respiratory-studio",
   "metadata": {},
   "outputs": [
    {
     "name": "stdout",
     "output_type": "stream",
     "text": [
      "CPU times: user 3.26 s, sys: 1.31 s, total: 4.57 s\n",
      "Wall time: 2.84 s\n"
     ]
    }
   ],
   "source": [
    "%time dsa.store(data, null_store, lock=False)"
   ]
  },
  {
   "cell_type": "code",
   "execution_count": 18,
   "id": "sticky-mobility",
   "metadata": {},
   "outputs": [
    {
     "data": {
      "application/vnd.jupyter.widget-view+json": {
       "model_id": "32d8ebd7cb3a48d5aa04c04ce1113bef",
       "version_major": 2,
       "version_minor": 0
      },
      "text/plain": [
       "VBox(children=(HTML(value='<h2>GatewayCluster</h2>'), HBox(children=(HTML(value='\\n<div>\\n<style scoped>\\n    …"
      ]
     },
     "metadata": {},
     "output_type": "display_data"
    }
   ],
   "source": [
    "from dask_gateway import Gateway\n",
    "from dask.distributed import Client\n",
    "\n",
    "gateway = Gateway()\n",
    "cluster = gateway.new_cluster()\n",
    "cluster"
   ]
  },
  {
   "cell_type": "code",
   "execution_count": 19,
   "id": "cosmetic-guard",
   "metadata": {},
   "outputs": [
    {
     "data": {
      "text/html": [
       "<table style=\"border: 2px solid white;\">\n",
       "<tr>\n",
       "<td style=\"vertical-align: top; border: 0px solid white\">\n",
       "<h3 style=\"text-align: left;\">Client</h3>\n",
       "<ul style=\"text-align: left; list-style: none; margin: 0; padding: 0;\">\n",
       "  <li><b>Scheduler: </b>gateway://traefik-gcp-uscentral1b-prod-dask-gateway.prod:80/prod.7bf6b7eec30a4402a443ddfcd822cec4</li>\n",
       "  <li><b>Dashboard: </b><a href='/services/dask-gateway/clusters/prod.7bf6b7eec30a4402a443ddfcd822cec4/status' target='_blank'>/services/dask-gateway/clusters/prod.7bf6b7eec30a4402a443ddfcd822cec4/status</a></li>\n",
       "</ul>\n",
       "</td>\n",
       "<td style=\"vertical-align: top; border: 0px solid white\">\n",
       "<h3 style=\"text-align: left;\">Cluster</h3>\n",
       "<ul style=\"text-align: left; list-style:none; margin: 0; padding: 0;\">\n",
       "  <li><b>Workers: </b>0</li>\n",
       "  <li><b>Cores: </b>0</li>\n",
       "  <li><b>Memory: </b>0 B</li>\n",
       "</ul>\n",
       "</td>\n",
       "</tr>\n",
       "</table>"
      ],
      "text/plain": [
       "<Client: 'tls://10.36.123.11:8786' processes=0 threads=0, memory=0 B>"
      ]
     },
     "execution_count": 19,
     "metadata": {},
     "output_type": "execute_result"
    }
   ],
   "source": [
    "client = Client(cluster)\n",
    "client"
   ]
  },
  {
   "cell_type": "code",
   "execution_count": 20,
   "id": "reflected-herald",
   "metadata": {},
   "outputs": [],
   "source": [
    "class DiagnosticTimer:\n",
    "    def __init__(self):\n",
    "        self.diagnostics = []\n",
    "\n",
    "    @contextmanager\n",
    "    def time(self, **kwargs):\n",
    "        tic = time.time()\n",
    "        yield\n",
    "        toc = time.time()\n",
    "        kwargs[\"runtime\"] = toc - tic\n",
    "        self.diagnostics.append(kwargs)\n",
    "\n",
    "    def dataframe(self):\n",
    "        return pd.DataFrame(self.diagnostics)\n",
    "\n",
    "diag_timer = DiagnosticTimer()\n"
   ]
  },
  {
   "cell_type": "code",
   "execution_count": 21,
   "id": "august-television",
   "metadata": {},
   "outputs": [
    {
     "data": {
      "text/plain": [
       "74649600"
      ]
     },
     "execution_count": 21,
     "metadata": {},
     "output_type": "execute_result"
    }
   ],
   "source": [
    "chunksize = np.prod(data.chunksize) * data.dtype.itemsize\n",
    "chunksize"
   ]
  },
  {
   "cell_type": "code",
   "execution_count": 22,
   "id": "speaking-squad",
   "metadata": {},
   "outputs": [],
   "source": [
    "def total_nthreads():\n",
    "    return sum([v for v in client.nthreads().values()])\n",
    "\n",
    "def total_ncores():\n",
    "    return sum([v for v in client.ncores().values()])\n",
    "\n",
    "def total_workers():\n",
    "    return len(client.ncores())"
   ]
  },
  {
   "cell_type": "markdown",
   "id": "possible-alloy",
   "metadata": {},
   "source": [
    "### Running the tests"
   ]
  },
  {
   "cell_type": "code",
   "execution_count": 23,
   "id": "beautiful-scanner",
   "metadata": {},
   "outputs": [
    {
     "name": "stdout",
     "output_type": "stream",
     "text": [
      "20\n",
      "25\n",
      "30\n",
      "35\n",
      "40\n",
      "45\n",
      "50\n",
      "55\n",
      "60\n",
      "70\n"
     ]
    }
   ],
   "source": [
    "diag_kwargs = dict(nbytes=data.nbytes, chunksize=chunksize,\n",
    "                   cloud='GCS', format='zarr')\n",
    "\n",
    "#1,1,2,2,4,4,6,7,8,9,15,16\n",
    "for nworkers in [20,25,30,35,40,45,50,55,60,70]:\n",
    "    cluster.scale(nworkers)\n",
    "    time.sleep(10)\n",
    "    client.wait_for_workers(nworkers)\n",
    "    print(nworkers)\n",
    "    with diag_timer.time(nthreads=total_nthreads(),\n",
    "                         ncores=total_ncores(),\n",
    "                         nworkers=total_workers(),\n",
    "                         **diag_kwargs):\n",
    "\n",
    "        future = dsa.store(data, null_store, lock=False, compute=False)\n",
    "        dask.compute(future, retries=5)\n",
    "\n"
   ]
  },
  {
   "cell_type": "code",
   "execution_count": 24,
   "id": "least-intent",
   "metadata": {},
   "outputs": [],
   "source": [
    "client.close()\n",
    "cluster.close()"
   ]
  },
  {
   "cell_type": "markdown",
   "id": "understood-crime",
   "metadata": {},
   "source": [
    "### Looking at results and saving files"
   ]
  },
  {
   "cell_type": "code",
   "execution_count": 25,
   "id": "mighty-cherry",
   "metadata": {},
   "outputs": [
    {
     "data": {
      "text/html": [
       "<div>\n",
       "<style scoped>\n",
       "    .dataframe tbody tr th:only-of-type {\n",
       "        vertical-align: middle;\n",
       "    }\n",
       "\n",
       "    .dataframe tbody tr th {\n",
       "        vertical-align: top;\n",
       "    }\n",
       "\n",
       "    .dataframe thead th {\n",
       "        text-align: right;\n",
       "    }\n",
       "</style>\n",
       "<table border=\"1\" class=\"dataframe\">\n",
       "  <thead>\n",
       "    <tr style=\"text-align: right;\">\n",
       "      <th></th>\n",
       "      <th>nthreads</th>\n",
       "      <th>ncores</th>\n",
       "      <th>nworkers</th>\n",
       "      <th>nbytes</th>\n",
       "      <th>chunksize</th>\n",
       "      <th>cloud</th>\n",
       "      <th>format</th>\n",
       "      <th>runtime</th>\n",
       "    </tr>\n",
       "  </thead>\n",
       "  <tbody>\n",
       "    <tr>\n",
       "      <th>0</th>\n",
       "      <td>40</td>\n",
       "      <td>40</td>\n",
       "      <td>20</td>\n",
       "      <td>970444800</td>\n",
       "      <td>74649600</td>\n",
       "      <td>GCS</td>\n",
       "      <td>zarr</td>\n",
       "      <td>7.277597</td>\n",
       "    </tr>\n",
       "    <tr>\n",
       "      <th>1</th>\n",
       "      <td>50</td>\n",
       "      <td>50</td>\n",
       "      <td>25</td>\n",
       "      <td>970444800</td>\n",
       "      <td>74649600</td>\n",
       "      <td>GCS</td>\n",
       "      <td>zarr</td>\n",
       "      <td>6.239417</td>\n",
       "    </tr>\n",
       "    <tr>\n",
       "      <th>2</th>\n",
       "      <td>60</td>\n",
       "      <td>60</td>\n",
       "      <td>30</td>\n",
       "      <td>970444800</td>\n",
       "      <td>74649600</td>\n",
       "      <td>GCS</td>\n",
       "      <td>zarr</td>\n",
       "      <td>3.664774</td>\n",
       "    </tr>\n",
       "    <tr>\n",
       "      <th>3</th>\n",
       "      <td>70</td>\n",
       "      <td>70</td>\n",
       "      <td>35</td>\n",
       "      <td>970444800</td>\n",
       "      <td>74649600</td>\n",
       "      <td>GCS</td>\n",
       "      <td>zarr</td>\n",
       "      <td>3.600762</td>\n",
       "    </tr>\n",
       "    <tr>\n",
       "      <th>4</th>\n",
       "      <td>80</td>\n",
       "      <td>80</td>\n",
       "      <td>40</td>\n",
       "      <td>970444800</td>\n",
       "      <td>74649600</td>\n",
       "      <td>GCS</td>\n",
       "      <td>zarr</td>\n",
       "      <td>0.874773</td>\n",
       "    </tr>\n",
       "    <tr>\n",
       "      <th>5</th>\n",
       "      <td>90</td>\n",
       "      <td>90</td>\n",
       "      <td>45</td>\n",
       "      <td>970444800</td>\n",
       "      <td>74649600</td>\n",
       "      <td>GCS</td>\n",
       "      <td>zarr</td>\n",
       "      <td>3.681961</td>\n",
       "    </tr>\n",
       "    <tr>\n",
       "      <th>6</th>\n",
       "      <td>100</td>\n",
       "      <td>100</td>\n",
       "      <td>50</td>\n",
       "      <td>970444800</td>\n",
       "      <td>74649600</td>\n",
       "      <td>GCS</td>\n",
       "      <td>zarr</td>\n",
       "      <td>3.853706</td>\n",
       "    </tr>\n",
       "    <tr>\n",
       "      <th>7</th>\n",
       "      <td>110</td>\n",
       "      <td>110</td>\n",
       "      <td>55</td>\n",
       "      <td>970444800</td>\n",
       "      <td>74649600</td>\n",
       "      <td>GCS</td>\n",
       "      <td>zarr</td>\n",
       "      <td>0.797578</td>\n",
       "    </tr>\n",
       "    <tr>\n",
       "      <th>8</th>\n",
       "      <td>120</td>\n",
       "      <td>120</td>\n",
       "      <td>60</td>\n",
       "      <td>970444800</td>\n",
       "      <td>74649600</td>\n",
       "      <td>GCS</td>\n",
       "      <td>zarr</td>\n",
       "      <td>3.566920</td>\n",
       "    </tr>\n",
       "    <tr>\n",
       "      <th>9</th>\n",
       "      <td>140</td>\n",
       "      <td>140</td>\n",
       "      <td>70</td>\n",
       "      <td>970444800</td>\n",
       "      <td>74649600</td>\n",
       "      <td>GCS</td>\n",
       "      <td>zarr</td>\n",
       "      <td>3.585861</td>\n",
       "    </tr>\n",
       "  </tbody>\n",
       "</table>\n",
       "</div>"
      ],
      "text/plain": [
       "   nthreads  ncores  nworkers     nbytes  chunksize cloud format   runtime\n",
       "0        40      40        20  970444800   74649600   GCS   zarr  7.277597\n",
       "1        50      50        25  970444800   74649600   GCS   zarr  6.239417\n",
       "2        60      60        30  970444800   74649600   GCS   zarr  3.664774\n",
       "3        70      70        35  970444800   74649600   GCS   zarr  3.600762\n",
       "4        80      80        40  970444800   74649600   GCS   zarr  0.874773\n",
       "5        90      90        45  970444800   74649600   GCS   zarr  3.681961\n",
       "6       100     100        50  970444800   74649600   GCS   zarr  3.853706\n",
       "7       110     110        55  970444800   74649600   GCS   zarr  0.797578\n",
       "8       120     120        60  970444800   74649600   GCS   zarr  3.566920\n",
       "9       140     140        70  970444800   74649600   GCS   zarr  3.585861"
      ]
     },
     "execution_count": 25,
     "metadata": {},
     "output_type": "execute_result"
    }
   ],
   "source": [
    "df = diag_timer.dataframe()\n",
    "df"
   ]
  },
  {
   "cell_type": "code",
   "execution_count": 26,
   "id": "middle-estate",
   "metadata": {},
   "outputs": [
    {
     "data": {
      "text/plain": [
       "<AxesSubplot:xlabel='ncores'>"
      ]
     },
     "execution_count": 26,
     "metadata": {},
     "output_type": "execute_result"
    },
    {
     "data": {
      "image/png": "[encoded data removed]",
      "text/plain": [
       "<Figure size 432x288 with 1 Axes>"
      ]
     },
     "metadata": {
      "needs_background": "light"
     },
     "output_type": "display_data"
    }
   ],
   "source": [
    "df.plot(x='ncores', y='runtime', marker='o')"
   ]
  },
  {
   "cell_type": "code",
   "execution_count": 27,
   "id": "figured-provincial",
   "metadata": {},
   "outputs": [
    {
     "data": {
      "text/plain": [
       "<AxesSubplot:xlabel='ncores'>"
      ]
     },
     "execution_count": 27,
     "metadata": {},
     "output_type": "execute_result"
    },
    {
     "data": {
      "image/png": "[encoded data removed]",
      "text/plain": [
       "<Figure size 432x288 with 1 Axes>"
      ]
     },
     "metadata": {
      "needs_background": "light"
     },
     "output_type": "display_data"
    }
   ],
   "source": [
    "df['throughput_MBps'] = df.nbytes / 1e6 / df['runtime']\n",
    "df.plot(x='ncores', y='throughput_MBps', marker='o')"
   ]
  },
  {
   "cell_type": "code",
   "execution_count": 28,
   "id": "stupid-recall",
   "metadata": {},
   "outputs": [
    {
     "data": {
      "text/plain": [
       "<AxesSubplot:xlabel='nthreads'>"
      ]
     },
     "execution_count": 28,
     "metadata": {},
     "output_type": "execute_result"
    },
    {
     "data": {
      "image/png": "[encoded data removed]",
      "text/plain": [
       "<Figure size 432x288 with 1 Axes>"
      ]
     },
     "metadata": {
      "needs_background": "light"
     },
     "output_type": "display_data"
    }
   ],
   "source": [
    "df['throughput_MBps_per_thread'] = df.throughput_MBps / df.nthreads\n",
    "df.plot(x='nthreads', y='throughput_MBps_per_thread', marker='o')"
   ]
  },
  {
   "cell_type": "code",
   "execution_count": 29,
   "id": "recent-bangladesh",
   "metadata": {},
   "outputs": [],
   "source": [
    "df.to_csv('gcs_zarr_test-3_us_central.csv')"
   ]
  },
  {
   "cell_type": "code",
   "execution_count": 30,
   "id": "alive-springer",
   "metadata": {},
   "outputs": [
    {
     "data": {
      "text/html": [
       "<div>\n",
       "<style scoped>\n",
       "    .dataframe tbody tr th:only-of-type {\n",
       "        vertical-align: middle;\n",
       "    }\n",
       "\n",
       "    .dataframe tbody tr th {\n",
       "        vertical-align: top;\n",
       "    }\n",
       "\n",
       "    .dataframe thead th {\n",
       "        text-align: right;\n",
       "    }\n",
       "</style>\n",
       "<table border=\"1\" class=\"dataframe\">\n",
       "  <thead>\n",
       "    <tr style=\"text-align: right;\">\n",
       "      <th></th>\n",
       "      <th>nthreads</th>\n",
       "      <th>ncores</th>\n",
       "      <th>nworkers</th>\n",
       "      <th>nbytes</th>\n",
       "      <th>chunksize</th>\n",
       "      <th>cloud</th>\n",
       "      <th>format</th>\n",
       "      <th>runtime</th>\n",
       "      <th>throughput_MBps</th>\n",
       "      <th>throughput_MBps_per_thread</th>\n",
       "    </tr>\n",
       "  </thead>\n",
       "  <tbody>\n",
       "    <tr>\n",
       "      <th>0</th>\n",
       "      <td>40</td>\n",
       "      <td>40</td>\n",
       "      <td>20</td>\n",
       "      <td>970444800</td>\n",
       "      <td>74649600</td>\n",
       "      <td>GCS</td>\n",
       "      <td>zarr</td>\n",
       "      <td>7.277597</td>\n",
       "      <td>133.346869</td>\n",
       "      <td>3.333672</td>\n",
       "    </tr>\n",
       "    <tr>\n",
       "      <th>1</th>\n",
       "      <td>50</td>\n",
       "      <td>50</td>\n",
       "      <td>25</td>\n",
       "      <td>970444800</td>\n",
       "      <td>74649600</td>\n",
       "      <td>GCS</td>\n",
       "      <td>zarr</td>\n",
       "      <td>6.239417</td>\n",
       "      <td>155.534536</td>\n",
       "      <td>3.110691</td>\n",
       "    </tr>\n",
       "    <tr>\n",
       "      <th>2</th>\n",
       "      <td>60</td>\n",
       "      <td>60</td>\n",
       "      <td>30</td>\n",
       "      <td>970444800</td>\n",
       "      <td>74649600</td>\n",
       "      <td>GCS</td>\n",
       "      <td>zarr</td>\n",
       "      <td>3.664774</td>\n",
       "      <td>264.803420</td>\n",
       "      <td>4.413390</td>\n",
       "    </tr>\n",
       "    <tr>\n",
       "      <th>3</th>\n",
       "      <td>70</td>\n",
       "      <td>70</td>\n",
       "      <td>35</td>\n",
       "      <td>970444800</td>\n",
       "      <td>74649600</td>\n",
       "      <td>GCS</td>\n",
       "      <td>zarr</td>\n",
       "      <td>3.600762</td>\n",
       "      <td>269.510926</td>\n",
       "      <td>3.850156</td>\n",
       "    </tr>\n",
       "    <tr>\n",
       "      <th>4</th>\n",
       "      <td>80</td>\n",
       "      <td>80</td>\n",
       "      <td>40</td>\n",
       "      <td>970444800</td>\n",
       "      <td>74649600</td>\n",
       "      <td>GCS</td>\n",
       "      <td>zarr</td>\n",
       "      <td>0.874773</td>\n",
       "      <td>1109.367238</td>\n",
       "      <td>13.867090</td>\n",
       "    </tr>\n",
       "    <tr>\n",
       "      <th>5</th>\n",
       "      <td>90</td>\n",
       "      <td>90</td>\n",
       "      <td>45</td>\n",
       "      <td>970444800</td>\n",
       "      <td>74649600</td>\n",
       "      <td>GCS</td>\n",
       "      <td>zarr</td>\n",
       "      <td>3.681961</td>\n",
       "      <td>263.567389</td>\n",
       "      <td>2.928527</td>\n",
       "    </tr>\n",
       "    <tr>\n",
       "      <th>6</th>\n",
       "      <td>100</td>\n",
       "      <td>100</td>\n",
       "      <td>50</td>\n",
       "      <td>970444800</td>\n",
       "      <td>74649600</td>\n",
       "      <td>GCS</td>\n",
       "      <td>zarr</td>\n",
       "      <td>3.853706</td>\n",
       "      <td>251.821174</td>\n",
       "      <td>2.518212</td>\n",
       "    </tr>\n",
       "    <tr>\n",
       "      <th>7</th>\n",
       "      <td>110</td>\n",
       "      <td>110</td>\n",
       "      <td>55</td>\n",
       "      <td>970444800</td>\n",
       "      <td>74649600</td>\n",
       "      <td>GCS</td>\n",
       "      <td>zarr</td>\n",
       "      <td>0.797578</td>\n",
       "      <td>1216.739169</td>\n",
       "      <td>11.061265</td>\n",
       "    </tr>\n",
       "    <tr>\n",
       "      <th>8</th>\n",
       "      <td>120</td>\n",
       "      <td>120</td>\n",
       "      <td>60</td>\n",
       "      <td>970444800</td>\n",
       "      <td>74649600</td>\n",
       "      <td>GCS</td>\n",
       "      <td>zarr</td>\n",
       "      <td>3.566920</td>\n",
       "      <td>272.068036</td>\n",
       "      <td>2.267234</td>\n",
       "    </tr>\n",
       "    <tr>\n",
       "      <th>9</th>\n",
       "      <td>140</td>\n",
       "      <td>140</td>\n",
       "      <td>70</td>\n",
       "      <td>970444800</td>\n",
       "      <td>74649600</td>\n",
       "      <td>GCS</td>\n",
       "      <td>zarr</td>\n",
       "      <td>3.585861</td>\n",
       "      <td>270.630887</td>\n",
       "      <td>1.933078</td>\n",
       "    </tr>\n",
       "  </tbody>\n",
       "</table>\n",
       "</div>"
      ],
      "text/plain": [
       "   nthreads  ncores  nworkers     nbytes  chunksize cloud format   runtime  \\\n",
       "0        40      40        20  970444800   74649600   GCS   zarr  7.277597   \n",
       "1        50      50        25  970444800   74649600   GCS   zarr  6.239417   \n",
       "2        60      60        30  970444800   74649600   GCS   zarr  3.664774   \n",
       "3        70      70        35  970444800   74649600   GCS   zarr  3.600762   \n",
       "4        80      80        40  970444800   74649600   GCS   zarr  0.874773   \n",
       "5        90      90        45  970444800   74649600   GCS   zarr  3.681961   \n",
       "6       100     100        50  970444800   74649600   GCS   zarr  3.853706   \n",
       "7       110     110        55  970444800   74649600   GCS   zarr  0.797578   \n",
       "8       120     120        60  970444800   74649600   GCS   zarr  3.566920   \n",
       "9       140     140        70  970444800   74649600   GCS   zarr  3.585861   \n",
       "\n",
       "   throughput_MBps  throughput_MBps_per_thread  \n",
       "0       133.346869                    3.333672  \n",
       "1       155.534536                    3.110691  \n",
       "2       264.803420                    4.413390  \n",
       "3       269.510926                    3.850156  \n",
       "4      1109.367238                   13.867090  \n",
       "5       263.567389                    2.928527  \n",
       "6       251.821174                    2.518212  \n",
       "7      1216.739169                   11.061265  \n",
       "8       272.068036                    2.267234  \n",
       "9       270.630887                    1.933078  "
      ]
     },
     "execution_count": 30,
     "metadata": {},
     "output_type": "execute_result"
    }
   ],
   "source": [
    "df"
   ]
  },
  {
   "cell_type": "code",
   "execution_count": null,
   "id": "passing-sterling",
   "metadata": {},
   "outputs": [],
   "source": []
  }
 ],
 "metadata": {
  "kernelspec": {
   "display_name": "Python 3",
   "language": "python",
   "name": "python3"
  },
  "language_info": {
   "codemirror_mode": {
    "name": "ipython",
    "version": 3
   },
   "file_extension": ".py",
   "mimetype": "text/x-python",
   "name": "python",
   "nbconvert_exporter": "python",
   "pygments_lexer": "ipython3",
   "version": "3.8.6"
  }
 },
 "nbformat": 4,
 "nbformat_minor": 5
}
